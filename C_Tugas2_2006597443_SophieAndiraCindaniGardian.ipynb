{
  "cells": [
    {
      "cell_type": "markdown",
      "metadata": {
        "id": "0k_j9vD93i96"
      },
      "source": [
        "<center>\n",
        "<img src=\"https://drive.google.com/uc?id=1f1gGVI-rxcHjA90WEGNvvtSXF1pAxQwg\" alt=\"Fasilkom UI\" width=\"300\"/>\n",
        "\n",
        "CSGE603130 • Kecerdasan Artifisial dan Sains Data Dasar\n",
        "\n",
        "Semester Ganjil 2022/2023\n",
        "\n",
        "Fakultas Ilmu Komputer, Universitas Indonesia\n",
        "\n",
        "##**Tugas *2*: *Classification***\n",
        "\n",
        "###**Tenggat Waktu: 19 November 2022, 23.55 WIB**\n",
        "</center>\n",
        "\n",
        "####**Ketentuan:**\n",
        "\n",
        "1. Dataset yang digunakan pada tugas ini beserta deskripsinya telah disediakan di SCeLe.\n",
        "2. Buatlah program Jupyter Notebook yang menjawab pertanyaan sesuai dengan perintah soal yang disediakan.\n",
        "3. Dokumen Jupyter Notebook yang telah dilengkapi dengan jawaban dikumpulkan dengan format penamaan **Kelas_Tugas2_NPM_Nama.ipynb**. Contoh: A_Tugas2_2006123456_Budi.ipynb\n",
        "4. Kumpulkan dokumen tersebut pada submisi yang telah disediakan di SCeLe sesuai dengan kelas masing-masing sebelum **19 November 2022, 23.55 WIB**. Keterlambatan pengumpulan akan dikenakan pinalti.\n",
        "5. Praktikum ini dirancang sebagai **tugas mandiri**. Plagiarisme tidak diperkenankan dalam bentuk apapun. Adapun kolaborasi berupa diskusi (tanpa menyalin) dan literasi masih diperbolehkan dengan mencantumkan kolaborator dan sumber.\n"
      ]
    },
    {
      "cell_type": "markdown",
      "metadata": {
        "id": "JnRUE1Ul62_R"
      },
      "source": [
        "## **Pernyataan Integritas**\n",
        "\n",
        "Wajib diisi. Tanpa pernyataan integritas submisi akan dikenakan pinalti."
      ]
    },
    {
      "cell_type": "code",
      "execution_count": 1,
      "metadata": {
        "id": "9tnfWWpN7vjq"
      },
      "outputs": [],
      "source": [
        "# Isi dengan data diri Anda\n",
        "NAMA = \"Sophie Andira Cindani Gardian\"\n",
        "KELAS = \"C\"\n",
        "NPM = \"2006597443\"\n",
        "\n",
        "# Isi dengan NPM teman yang berdiskusi dengan Anda\n",
        "KOLABORATOR = []\n",
        "\n",
        "# Isi dengan sumber referensi yang Anda gunakan dalam mengerjakan\n",
        "REFERENSI = ['https://stephenallwright.com/remove-outliers-pandas/', 'https://vitalflux.com/pandas-impute-missing-values-mean-median-mode/', 'https://analyticsindiamag.com/how-to-detect-and-treat-outliers-in-categorical-data/', 'https://www.kaggle.com/code/satishgunjal/tutorial-k-fold-cross-validation#K-Fold:-Classification-Example-', 'https://towardsdatascience.com/feature-selection-with-pandas-e3690ad8504b', 'https://stats.stackexchange.com/questions/93928/naive-bayes-continuous-and-categorical-predictors', 'https://stackoverflow.com/questions/14254203/mixing-categorial-and-continuous-data-in-naive-bayes-classifier-using-scikit-lea', 'https://www.mygreatlearning.com/blog/gridsearchcv/', 'https://www.youtube.com/watch?v=Jrtn14j5gCE&list=PLzeH6W6NhxvAfQXR0_EyHoW9eDi0stgA2&index=5', 'https://towardsdatascience.com/feature-selection-with-pandas-e3690ad8504b']"
      ]
    },
    {
      "cell_type": "code",
      "execution_count": 2,
      "metadata": {
        "colab": {
          "base_uri": "https://localhost:8080/"
        },
        "id": "KVEdteyu3hot",
        "outputId": "be42673d-1f87-45fb-99ae-377fb9276033"
      },
      "outputs": [
        {
          "output_type": "stream",
          "name": "stdout",
          "text": [
            "Saya, Sophie Andira Cindani Gardian dari kelas C dengan NPM 2006597443, menyatakan bahwa seluruh jawaban pada pekerjaan ini murni saya kerjakan sendiri.\n",
            "Saya tidak mencontek jawaban, memberikan jawaban, maupun menyalin dari sumber manapun.\n",
            " \n",
            "Jika saya melanggar pernyataan tersebut, saya siap menerima konsekuensi apapun yang diberikan.\n",
            "   (Sophie Andira Cindani Gardian)\n"
          ]
        }
      ],
      "source": [
        "PERNYATAAN_INTEGRITAS = \"Saya, %s dari kelas %s dengan NPM %s, menyatakan bahwa seluruh jawaban pada pekerjaan ini murni saya kerjakan sendiri.\\n\\\n",
        "Saya tidak mencontek jawaban, memberikan jawaban, maupun menyalin dari sumber manapun.\\n \\\n",
        "\\n\\\n",
        "Jika saya melanggar pernyataan tersebut, saya siap menerima konsekuensi apapun yang diberikan.\\n   \\\n",
        "(%s)\" % (NAMA, KELAS, NPM, NAMA)\n",
        "\n",
        "print(PERNYATAAN_INTEGRITAS)"
      ]
    },
    {
      "cell_type": "code",
      "execution_count": 3,
      "metadata": {
        "id": "PfDooLQpbXRP"
      },
      "outputs": [],
      "source": [
        "import matplotlib.pyplot as plt\n",
        "import numpy as np\n",
        "import pandas as pd\n",
        "import seaborn as sns\n",
        "import scipy.stats as scp\n",
        "\n",
        "from sklearn.ensemble import RandomForestClassifier\n",
        "from sklearn.feature_selection import SelectKBest\n",
        "from sklearn.metrics import classification_report\n",
        "from sklearn.model_selection import GridSearchCV, train_test_split, KFold, cross_val_score\n",
        "from sklearn.naive_bayes import GaussianNB, MultinomialNB, ComplementNB, BernoulliNB, CategoricalNB\n",
        "from sklearn.neighbors import KNeighborsClassifier\n",
        "from sklearn.preprocessing import MinMaxScaler, LabelEncoder, OneHotEncoder\n",
        "from sklearn.tree import DecisionTreeClassifier"
      ]
    },
    {
      "cell_type": "markdown",
      "metadata": {
        "id": "whoUqmpRTKVe"
      },
      "source": [
        "## **Dataset**"
      ]
    },
    {
      "cell_type": "markdown",
      "metadata": {
        "id": "EK27FheIFqrt"
      },
      "source": [
        "Dataset yang digunakan adalah dataset Mobile Prices dimana kita memklasifikasi handphone lewat harganya, terdapat 21 atribut dan target atributnya adalah price_range.\n",
        "\n",
        "Penjelesan atribut:\n",
        "* battery_power : Total energy a battery can store in one time measured in mAh\n",
        "* blue : Has bluetooth or not\n",
        "* clock_speed : speed at which microprocessor executes instructions\n",
        "* dual_sim : Has dual sim support or not\n",
        "* fc : Front Camera mega pixels\n",
        "* four_g : Has 4G or not\n",
        "* int_memory : Internal Memory in Gigabytes\n",
        "* m_dep : Mobile Depth in cm\n",
        "* mobile_wt : Weight of mobile phone\n",
        "* n_cores : Number of cores of processor\n",
        "* pc : Primary Camera mega pixels\n",
        "* px_height : Pixel Resolution Height\n",
        "* px_width : Pixel Resolution Width\n",
        "* ram : Random Access Memory in Mega Bytes\n",
        "* sc_h : Screen Height of mobile in cm\n",
        "* sc_w : Screen Width of mobile in cm\n",
        "* talk_time : Longest time that a single battery charge will last when you are\n",
        "* three_g : Has 3G or not\n",
        "* touch_screen : Has touch screen or not\n",
        "* wifi : Has wifi or not\n",
        "* price_range : This is the target variable with value of 0(low cost), 1(medium cost), 2(high cost) and 3(very high cost).\n",
        "\n",
        "Sumber: https://www.kaggle.com/datasets/iabhishekofficial/mobile-price-classification (dengan modifikasi)"
      ]
    },
    {
      "cell_type": "markdown",
      "metadata": {
        "id": "PIJ1_2ZIROKV"
      },
      "source": [
        "## [25] **Preprocessing**"
      ]
    },
    {
      "cell_type": "markdown",
      "metadata": {
        "id": "-17a8T9R2_15"
      },
      "source": [
        "**Pada bagian ini Anda akan diminta untuk melakukan preprocessing dan eksplorasi data sebelum data digunakan dalam model klasifikasi.**"
      ]
    },
    {
      "cell_type": "markdown",
      "metadata": {
        "id": "rjKw3KxmRbhm"
      },
      "source": [
        "1\\. [3] Berikan ringkasan mengenai data tersebut terkait dengan deskripsi setiap atribut, jumlah missing values, jumlah duplikasi data, dan kemungkinan adanya outliers pada data!"
      ]
    },
    {
      "cell_type": "markdown",
      "metadata": {
        "id": "GSDnFvDQaHsE"
      },
      "source": [
        "2\\. [3] Berdasarkan eksplorasi anda pada nomor 1, lakukan data preparation hingga data tersebut menurut anda cukup “clean” dan dapat memberikan hasil klasifikasi yang maksimal."
      ]
    },
    {
      "cell_type": "markdown",
      "source": [
        "**Jawaban untuk nomor 1 dan 2:**"
      ],
      "metadata": {
        "id": "Akw86dAlLm_k"
      }
    },
    {
      "cell_type": "code",
      "execution_count": 4,
      "metadata": {
        "colab": {
          "base_uri": "https://localhost:8080/",
          "height": 297
        },
        "id": "77nxbl8ZiLai",
        "outputId": "5f025068-93f3-4d26-b971-333c0de97d69"
      },
      "outputs": [
        {
          "output_type": "execute_result",
          "data": {
            "text/plain": [
              "   battery_power  blue  clock_speed  dual_sim  fc  four_g  int_memory  m_dep  \\\n",
              "0            842     0          2.2         0   1       0         7.0    0.6   \n",
              "1           1021     1          0.5         1   0       1        53.0    0.7   \n",
              "2            563     1          0.5         1   2       1        41.0    0.9   \n",
              "3            615     1          2.5         0   0       0        10.0    0.8   \n",
              "4           1821     1          1.2         0  13       1        44.0    NaN   \n",
              "\n",
              "   mobile_wt  n_cores  ...  px_height  px_width     ram  sc_h  sc_w  \\\n",
              "0        188        2  ...         20       756  2549.0     9     7   \n",
              "1        136        3  ...        905      1988  2631.0    17     3   \n",
              "2        145        5  ...       1263      1716  2603.0    11     2   \n",
              "3        131        6  ...       1216      1786  2769.0    16     8   \n",
              "4        141        2  ...       1208      1212  1411.0     8     2   \n",
              "\n",
              "   talk_time  three_g  touch_screen  wifi  price_range  \n",
              "0        NaN        0           0.0   1.0            1  \n",
              "1        7.0        1           1.0   0.0            2  \n",
              "2        9.0        1           1.0   0.0            2  \n",
              "3       11.0        1           0.0   0.0            2  \n",
              "4       15.0        1           1.0   0.0            1  \n",
              "\n",
              "[5 rows x 21 columns]"
            ],
            "text/html": [
              "\n",
              "  <div id=\"df-aee6c752-890d-4ca2-a21f-b35572b6230f\">\n",
              "    <div class=\"colab-df-container\">\n",
              "      <div>\n",
              "<style scoped>\n",
              "    .dataframe tbody tr th:only-of-type {\n",
              "        vertical-align: middle;\n",
              "    }\n",
              "\n",
              "    .dataframe tbody tr th {\n",
              "        vertical-align: top;\n",
              "    }\n",
              "\n",
              "    .dataframe thead th {\n",
              "        text-align: right;\n",
              "    }\n",
              "</style>\n",
              "<table border=\"1\" class=\"dataframe\">\n",
              "  <thead>\n",
              "    <tr style=\"text-align: right;\">\n",
              "      <th></th>\n",
              "      <th>battery_power</th>\n",
              "      <th>blue</th>\n",
              "      <th>clock_speed</th>\n",
              "      <th>dual_sim</th>\n",
              "      <th>fc</th>\n",
              "      <th>four_g</th>\n",
              "      <th>int_memory</th>\n",
              "      <th>m_dep</th>\n",
              "      <th>mobile_wt</th>\n",
              "      <th>n_cores</th>\n",
              "      <th>...</th>\n",
              "      <th>px_height</th>\n",
              "      <th>px_width</th>\n",
              "      <th>ram</th>\n",
              "      <th>sc_h</th>\n",
              "      <th>sc_w</th>\n",
              "      <th>talk_time</th>\n",
              "      <th>three_g</th>\n",
              "      <th>touch_screen</th>\n",
              "      <th>wifi</th>\n",
              "      <th>price_range</th>\n",
              "    </tr>\n",
              "  </thead>\n",
              "  <tbody>\n",
              "    <tr>\n",
              "      <th>0</th>\n",
              "      <td>842</td>\n",
              "      <td>0</td>\n",
              "      <td>2.2</td>\n",
              "      <td>0</td>\n",
              "      <td>1</td>\n",
              "      <td>0</td>\n",
              "      <td>7.0</td>\n",
              "      <td>0.6</td>\n",
              "      <td>188</td>\n",
              "      <td>2</td>\n",
              "      <td>...</td>\n",
              "      <td>20</td>\n",
              "      <td>756</td>\n",
              "      <td>2549.0</td>\n",
              "      <td>9</td>\n",
              "      <td>7</td>\n",
              "      <td>NaN</td>\n",
              "      <td>0</td>\n",
              "      <td>0.0</td>\n",
              "      <td>1.0</td>\n",
              "      <td>1</td>\n",
              "    </tr>\n",
              "    <tr>\n",
              "      <th>1</th>\n",
              "      <td>1021</td>\n",
              "      <td>1</td>\n",
              "      <td>0.5</td>\n",
              "      <td>1</td>\n",
              "      <td>0</td>\n",
              "      <td>1</td>\n",
              "      <td>53.0</td>\n",
              "      <td>0.7</td>\n",
              "      <td>136</td>\n",
              "      <td>3</td>\n",
              "      <td>...</td>\n",
              "      <td>905</td>\n",
              "      <td>1988</td>\n",
              "      <td>2631.0</td>\n",
              "      <td>17</td>\n",
              "      <td>3</td>\n",
              "      <td>7.0</td>\n",
              "      <td>1</td>\n",
              "      <td>1.0</td>\n",
              "      <td>0.0</td>\n",
              "      <td>2</td>\n",
              "    </tr>\n",
              "    <tr>\n",
              "      <th>2</th>\n",
              "      <td>563</td>\n",
              "      <td>1</td>\n",
              "      <td>0.5</td>\n",
              "      <td>1</td>\n",
              "      <td>2</td>\n",
              "      <td>1</td>\n",
              "      <td>41.0</td>\n",
              "      <td>0.9</td>\n",
              "      <td>145</td>\n",
              "      <td>5</td>\n",
              "      <td>...</td>\n",
              "      <td>1263</td>\n",
              "      <td>1716</td>\n",
              "      <td>2603.0</td>\n",
              "      <td>11</td>\n",
              "      <td>2</td>\n",
              "      <td>9.0</td>\n",
              "      <td>1</td>\n",
              "      <td>1.0</td>\n",
              "      <td>0.0</td>\n",
              "      <td>2</td>\n",
              "    </tr>\n",
              "    <tr>\n",
              "      <th>3</th>\n",
              "      <td>615</td>\n",
              "      <td>1</td>\n",
              "      <td>2.5</td>\n",
              "      <td>0</td>\n",
              "      <td>0</td>\n",
              "      <td>0</td>\n",
              "      <td>10.0</td>\n",
              "      <td>0.8</td>\n",
              "      <td>131</td>\n",
              "      <td>6</td>\n",
              "      <td>...</td>\n",
              "      <td>1216</td>\n",
              "      <td>1786</td>\n",
              "      <td>2769.0</td>\n",
              "      <td>16</td>\n",
              "      <td>8</td>\n",
              "      <td>11.0</td>\n",
              "      <td>1</td>\n",
              "      <td>0.0</td>\n",
              "      <td>0.0</td>\n",
              "      <td>2</td>\n",
              "    </tr>\n",
              "    <tr>\n",
              "      <th>4</th>\n",
              "      <td>1821</td>\n",
              "      <td>1</td>\n",
              "      <td>1.2</td>\n",
              "      <td>0</td>\n",
              "      <td>13</td>\n",
              "      <td>1</td>\n",
              "      <td>44.0</td>\n",
              "      <td>NaN</td>\n",
              "      <td>141</td>\n",
              "      <td>2</td>\n",
              "      <td>...</td>\n",
              "      <td>1208</td>\n",
              "      <td>1212</td>\n",
              "      <td>1411.0</td>\n",
              "      <td>8</td>\n",
              "      <td>2</td>\n",
              "      <td>15.0</td>\n",
              "      <td>1</td>\n",
              "      <td>1.0</td>\n",
              "      <td>0.0</td>\n",
              "      <td>1</td>\n",
              "    </tr>\n",
              "  </tbody>\n",
              "</table>\n",
              "<p>5 rows × 21 columns</p>\n",
              "</div>\n",
              "      <button class=\"colab-df-convert\" onclick=\"convertToInteractive('df-aee6c752-890d-4ca2-a21f-b35572b6230f')\"\n",
              "              title=\"Convert this dataframe to an interactive table.\"\n",
              "              style=\"display:none;\">\n",
              "        \n",
              "  <svg xmlns=\"http://www.w3.org/2000/svg\" height=\"24px\"viewBox=\"0 0 24 24\"\n",
              "       width=\"24px\">\n",
              "    <path d=\"M0 0h24v24H0V0z\" fill=\"none\"/>\n",
              "    <path d=\"M18.56 5.44l.94 2.06.94-2.06 2.06-.94-2.06-.94-.94-2.06-.94 2.06-2.06.94zm-11 1L8.5 8.5l.94-2.06 2.06-.94-2.06-.94L8.5 2.5l-.94 2.06-2.06.94zm10 10l.94 2.06.94-2.06 2.06-.94-2.06-.94-.94-2.06-.94 2.06-2.06.94z\"/><path d=\"M17.41 7.96l-1.37-1.37c-.4-.4-.92-.59-1.43-.59-.52 0-1.04.2-1.43.59L10.3 9.45l-7.72 7.72c-.78.78-.78 2.05 0 2.83L4 21.41c.39.39.9.59 1.41.59.51 0 1.02-.2 1.41-.59l7.78-7.78 2.81-2.81c.8-.78.8-2.07 0-2.86zM5.41 20L4 18.59l7.72-7.72 1.47 1.35L5.41 20z\"/>\n",
              "  </svg>\n",
              "      </button>\n",
              "      \n",
              "  <style>\n",
              "    .colab-df-container {\n",
              "      display:flex;\n",
              "      flex-wrap:wrap;\n",
              "      gap: 12px;\n",
              "    }\n",
              "\n",
              "    .colab-df-convert {\n",
              "      background-color: #E8F0FE;\n",
              "      border: none;\n",
              "      border-radius: 50%;\n",
              "      cursor: pointer;\n",
              "      display: none;\n",
              "      fill: #1967D2;\n",
              "      height: 32px;\n",
              "      padding: 0 0 0 0;\n",
              "      width: 32px;\n",
              "    }\n",
              "\n",
              "    .colab-df-convert:hover {\n",
              "      background-color: #E2EBFA;\n",
              "      box-shadow: 0px 1px 2px rgba(60, 64, 67, 0.3), 0px 1px 3px 1px rgba(60, 64, 67, 0.15);\n",
              "      fill: #174EA6;\n",
              "    }\n",
              "\n",
              "    [theme=dark] .colab-df-convert {\n",
              "      background-color: #3B4455;\n",
              "      fill: #D2E3FC;\n",
              "    }\n",
              "\n",
              "    [theme=dark] .colab-df-convert:hover {\n",
              "      background-color: #434B5C;\n",
              "      box-shadow: 0px 1px 3px 1px rgba(0, 0, 0, 0.15);\n",
              "      filter: drop-shadow(0px 1px 2px rgba(0, 0, 0, 0.3));\n",
              "      fill: #FFFFFF;\n",
              "    }\n",
              "  </style>\n",
              "\n",
              "      <script>\n",
              "        const buttonEl =\n",
              "          document.querySelector('#df-aee6c752-890d-4ca2-a21f-b35572b6230f button.colab-df-convert');\n",
              "        buttonEl.style.display =\n",
              "          google.colab.kernel.accessAllowed ? 'block' : 'none';\n",
              "\n",
              "        async function convertToInteractive(key) {\n",
              "          const element = document.querySelector('#df-aee6c752-890d-4ca2-a21f-b35572b6230f');\n",
              "          const dataTable =\n",
              "            await google.colab.kernel.invokeFunction('convertToInteractive',\n",
              "                                                     [key], {});\n",
              "          if (!dataTable) return;\n",
              "\n",
              "          const docLinkHtml = 'Like what you see? Visit the ' +\n",
              "            '<a target=\"_blank\" href=https://colab.research.google.com/notebooks/data_table.ipynb>data table notebook</a>'\n",
              "            + ' to learn more about interactive tables.';\n",
              "          element.innerHTML = '';\n",
              "          dataTable['output_type'] = 'display_data';\n",
              "          await google.colab.output.renderOutput(dataTable, element);\n",
              "          const docLink = document.createElement('div');\n",
              "          docLink.innerHTML = docLinkHtml;\n",
              "          element.appendChild(docLink);\n",
              "        }\n",
              "      </script>\n",
              "    </div>\n",
              "  </div>\n",
              "  "
            ]
          },
          "metadata": {},
          "execution_count": 4
        }
      ],
      "source": [
        "df = pd.read_csv('mobile_phone.csv')\n",
        "df.head()"
      ]
    },
    {
      "cell_type": "code",
      "execution_count": 5,
      "metadata": {
        "colab": {
          "base_uri": "https://localhost:8080/",
          "height": 390
        },
        "id": "SjyJ64jvth5T",
        "outputId": "565e46da-57a1-4cdf-a639-f4727845a9ed"
      },
      "outputs": [
        {
          "output_type": "execute_result",
          "data": {
            "text/plain": [
              "       battery_power         blue  clock_speed     dual_sim           fc  \\\n",
              "count    2021.000000  2021.000000  1920.000000  2021.000000  2021.000000   \n",
              "mean     1239.205344     0.492331     1.521302     0.505690     4.303810   \n",
              "std       439.916748     0.500065     0.816020     0.500091     4.330382   \n",
              "min       501.000000     0.000000     0.500000     0.000000     0.000000   \n",
              "25%       852.000000     0.000000     0.700000     0.000000     1.000000   \n",
              "50%      1230.000000     0.000000     1.500000     1.000000     3.000000   \n",
              "75%      1617.000000     1.000000     2.200000     1.000000     7.000000   \n",
              "max      1998.000000     1.000000     3.000000     1.000000    19.000000   \n",
              "\n",
              "            four_g   int_memory        m_dep    mobile_wt      n_cores  ...  \\\n",
              "count  2021.000000  1915.000000  1928.000000  2021.000000  2021.000000  ...   \n",
              "mean      0.523998    32.086162     0.501556   140.272143     4.532905  ...   \n",
              "std       0.499547    18.198040     0.289261    35.393281     2.291511  ...   \n",
              "min       0.000000     2.000000     0.100000    80.000000     1.000000  ...   \n",
              "25%       0.000000    16.000000     0.200000   109.000000     3.000000  ...   \n",
              "50%       1.000000    32.000000     0.500000   141.000000     4.000000  ...   \n",
              "75%       1.000000    48.000000     0.800000   170.000000     7.000000  ...   \n",
              "max       1.000000    64.000000     1.000000   200.000000     8.000000  ...   \n",
              "\n",
              "         px_height     px_width          ram         sc_h         sc_w  \\\n",
              "count  2021.000000  2021.000000  1927.000000  2021.000000  2021.000000   \n",
              "mean    646.858981  1249.240970  2120.320187    12.323602     5.790203   \n",
              "std     445.159739   433.141437  1079.774853     4.213155     4.369054   \n",
              "min       0.000000   500.000000   256.000000     5.000000     0.000000   \n",
              "25%     284.000000   874.000000  1210.500000     9.000000     2.000000   \n",
              "50%     567.000000  1245.000000  2130.000000    12.000000     5.000000   \n",
              "75%     947.000000  1633.000000  3033.500000    16.000000     9.000000   \n",
              "max    1960.000000  1998.000000  3998.000000    19.000000    18.000000   \n",
              "\n",
              "         talk_time      three_g  touch_screen         wifi  price_range  \n",
              "count  1937.000000  2021.000000   1925.000000  1922.000000  2021.000000  \n",
              "mean     11.022716     0.762494      0.504935     0.506243     1.503216  \n",
              "std       5.459042     0.425660      0.500106     0.500091     1.114537  \n",
              "min       2.000000     0.000000      0.000000     0.000000     0.000000  \n",
              "25%       6.000000     1.000000      0.000000     0.000000     1.000000  \n",
              "50%      11.000000     1.000000      1.000000     1.000000     2.000000  \n",
              "75%      16.000000     1.000000      1.000000     1.000000     2.000000  \n",
              "max      20.000000     1.000000      1.000000     1.000000     3.000000  \n",
              "\n",
              "[8 rows x 21 columns]"
            ],
            "text/html": [
              "\n",
              "  <div id=\"df-943f00e2-09ae-407c-ae51-5dcb19ea0b2b\">\n",
              "    <div class=\"colab-df-container\">\n",
              "      <div>\n",
              "<style scoped>\n",
              "    .dataframe tbody tr th:only-of-type {\n",
              "        vertical-align: middle;\n",
              "    }\n",
              "\n",
              "    .dataframe tbody tr th {\n",
              "        vertical-align: top;\n",
              "    }\n",
              "\n",
              "    .dataframe thead th {\n",
              "        text-align: right;\n",
              "    }\n",
              "</style>\n",
              "<table border=\"1\" class=\"dataframe\">\n",
              "  <thead>\n",
              "    <tr style=\"text-align: right;\">\n",
              "      <th></th>\n",
              "      <th>battery_power</th>\n",
              "      <th>blue</th>\n",
              "      <th>clock_speed</th>\n",
              "      <th>dual_sim</th>\n",
              "      <th>fc</th>\n",
              "      <th>four_g</th>\n",
              "      <th>int_memory</th>\n",
              "      <th>m_dep</th>\n",
              "      <th>mobile_wt</th>\n",
              "      <th>n_cores</th>\n",
              "      <th>...</th>\n",
              "      <th>px_height</th>\n",
              "      <th>px_width</th>\n",
              "      <th>ram</th>\n",
              "      <th>sc_h</th>\n",
              "      <th>sc_w</th>\n",
              "      <th>talk_time</th>\n",
              "      <th>three_g</th>\n",
              "      <th>touch_screen</th>\n",
              "      <th>wifi</th>\n",
              "      <th>price_range</th>\n",
              "    </tr>\n",
              "  </thead>\n",
              "  <tbody>\n",
              "    <tr>\n",
              "      <th>count</th>\n",
              "      <td>2021.000000</td>\n",
              "      <td>2021.000000</td>\n",
              "      <td>1920.000000</td>\n",
              "      <td>2021.000000</td>\n",
              "      <td>2021.000000</td>\n",
              "      <td>2021.000000</td>\n",
              "      <td>1915.000000</td>\n",
              "      <td>1928.000000</td>\n",
              "      <td>2021.000000</td>\n",
              "      <td>2021.000000</td>\n",
              "      <td>...</td>\n",
              "      <td>2021.000000</td>\n",
              "      <td>2021.000000</td>\n",
              "      <td>1927.000000</td>\n",
              "      <td>2021.000000</td>\n",
              "      <td>2021.000000</td>\n",
              "      <td>1937.000000</td>\n",
              "      <td>2021.000000</td>\n",
              "      <td>1925.000000</td>\n",
              "      <td>1922.000000</td>\n",
              "      <td>2021.000000</td>\n",
              "    </tr>\n",
              "    <tr>\n",
              "      <th>mean</th>\n",
              "      <td>1239.205344</td>\n",
              "      <td>0.492331</td>\n",
              "      <td>1.521302</td>\n",
              "      <td>0.505690</td>\n",
              "      <td>4.303810</td>\n",
              "      <td>0.523998</td>\n",
              "      <td>32.086162</td>\n",
              "      <td>0.501556</td>\n",
              "      <td>140.272143</td>\n",
              "      <td>4.532905</td>\n",
              "      <td>...</td>\n",
              "      <td>646.858981</td>\n",
              "      <td>1249.240970</td>\n",
              "      <td>2120.320187</td>\n",
              "      <td>12.323602</td>\n",
              "      <td>5.790203</td>\n",
              "      <td>11.022716</td>\n",
              "      <td>0.762494</td>\n",
              "      <td>0.504935</td>\n",
              "      <td>0.506243</td>\n",
              "      <td>1.503216</td>\n",
              "    </tr>\n",
              "    <tr>\n",
              "      <th>std</th>\n",
              "      <td>439.916748</td>\n",
              "      <td>0.500065</td>\n",
              "      <td>0.816020</td>\n",
              "      <td>0.500091</td>\n",
              "      <td>4.330382</td>\n",
              "      <td>0.499547</td>\n",
              "      <td>18.198040</td>\n",
              "      <td>0.289261</td>\n",
              "      <td>35.393281</td>\n",
              "      <td>2.291511</td>\n",
              "      <td>...</td>\n",
              "      <td>445.159739</td>\n",
              "      <td>433.141437</td>\n",
              "      <td>1079.774853</td>\n",
              "      <td>4.213155</td>\n",
              "      <td>4.369054</td>\n",
              "      <td>5.459042</td>\n",
              "      <td>0.425660</td>\n",
              "      <td>0.500106</td>\n",
              "      <td>0.500091</td>\n",
              "      <td>1.114537</td>\n",
              "    </tr>\n",
              "    <tr>\n",
              "      <th>min</th>\n",
              "      <td>501.000000</td>\n",
              "      <td>0.000000</td>\n",
              "      <td>0.500000</td>\n",
              "      <td>0.000000</td>\n",
              "      <td>0.000000</td>\n",
              "      <td>0.000000</td>\n",
              "      <td>2.000000</td>\n",
              "      <td>0.100000</td>\n",
              "      <td>80.000000</td>\n",
              "      <td>1.000000</td>\n",
              "      <td>...</td>\n",
              "      <td>0.000000</td>\n",
              "      <td>500.000000</td>\n",
              "      <td>256.000000</td>\n",
              "      <td>5.000000</td>\n",
              "      <td>0.000000</td>\n",
              "      <td>2.000000</td>\n",
              "      <td>0.000000</td>\n",
              "      <td>0.000000</td>\n",
              "      <td>0.000000</td>\n",
              "      <td>0.000000</td>\n",
              "    </tr>\n",
              "    <tr>\n",
              "      <th>25%</th>\n",
              "      <td>852.000000</td>\n",
              "      <td>0.000000</td>\n",
              "      <td>0.700000</td>\n",
              "      <td>0.000000</td>\n",
              "      <td>1.000000</td>\n",
              "      <td>0.000000</td>\n",
              "      <td>16.000000</td>\n",
              "      <td>0.200000</td>\n",
              "      <td>109.000000</td>\n",
              "      <td>3.000000</td>\n",
              "      <td>...</td>\n",
              "      <td>284.000000</td>\n",
              "      <td>874.000000</td>\n",
              "      <td>1210.500000</td>\n",
              "      <td>9.000000</td>\n",
              "      <td>2.000000</td>\n",
              "      <td>6.000000</td>\n",
              "      <td>1.000000</td>\n",
              "      <td>0.000000</td>\n",
              "      <td>0.000000</td>\n",
              "      <td>1.000000</td>\n",
              "    </tr>\n",
              "    <tr>\n",
              "      <th>50%</th>\n",
              "      <td>1230.000000</td>\n",
              "      <td>0.000000</td>\n",
              "      <td>1.500000</td>\n",
              "      <td>1.000000</td>\n",
              "      <td>3.000000</td>\n",
              "      <td>1.000000</td>\n",
              "      <td>32.000000</td>\n",
              "      <td>0.500000</td>\n",
              "      <td>141.000000</td>\n",
              "      <td>4.000000</td>\n",
              "      <td>...</td>\n",
              "      <td>567.000000</td>\n",
              "      <td>1245.000000</td>\n",
              "      <td>2130.000000</td>\n",
              "      <td>12.000000</td>\n",
              "      <td>5.000000</td>\n",
              "      <td>11.000000</td>\n",
              "      <td>1.000000</td>\n",
              "      <td>1.000000</td>\n",
              "      <td>1.000000</td>\n",
              "      <td>2.000000</td>\n",
              "    </tr>\n",
              "    <tr>\n",
              "      <th>75%</th>\n",
              "      <td>1617.000000</td>\n",
              "      <td>1.000000</td>\n",
              "      <td>2.200000</td>\n",
              "      <td>1.000000</td>\n",
              "      <td>7.000000</td>\n",
              "      <td>1.000000</td>\n",
              "      <td>48.000000</td>\n",
              "      <td>0.800000</td>\n",
              "      <td>170.000000</td>\n",
              "      <td>7.000000</td>\n",
              "      <td>...</td>\n",
              "      <td>947.000000</td>\n",
              "      <td>1633.000000</td>\n",
              "      <td>3033.500000</td>\n",
              "      <td>16.000000</td>\n",
              "      <td>9.000000</td>\n",
              "      <td>16.000000</td>\n",
              "      <td>1.000000</td>\n",
              "      <td>1.000000</td>\n",
              "      <td>1.000000</td>\n",
              "      <td>2.000000</td>\n",
              "    </tr>\n",
              "    <tr>\n",
              "      <th>max</th>\n",
              "      <td>1998.000000</td>\n",
              "      <td>1.000000</td>\n",
              "      <td>3.000000</td>\n",
              "      <td>1.000000</td>\n",
              "      <td>19.000000</td>\n",
              "      <td>1.000000</td>\n",
              "      <td>64.000000</td>\n",
              "      <td>1.000000</td>\n",
              "      <td>200.000000</td>\n",
              "      <td>8.000000</td>\n",
              "      <td>...</td>\n",
              "      <td>1960.000000</td>\n",
              "      <td>1998.000000</td>\n",
              "      <td>3998.000000</td>\n",
              "      <td>19.000000</td>\n",
              "      <td>18.000000</td>\n",
              "      <td>20.000000</td>\n",
              "      <td>1.000000</td>\n",
              "      <td>1.000000</td>\n",
              "      <td>1.000000</td>\n",
              "      <td>3.000000</td>\n",
              "    </tr>\n",
              "  </tbody>\n",
              "</table>\n",
              "<p>8 rows × 21 columns</p>\n",
              "</div>\n",
              "      <button class=\"colab-df-convert\" onclick=\"convertToInteractive('df-943f00e2-09ae-407c-ae51-5dcb19ea0b2b')\"\n",
              "              title=\"Convert this dataframe to an interactive table.\"\n",
              "              style=\"display:none;\">\n",
              "        \n",
              "  <svg xmlns=\"http://www.w3.org/2000/svg\" height=\"24px\"viewBox=\"0 0 24 24\"\n",
              "       width=\"24px\">\n",
              "    <path d=\"M0 0h24v24H0V0z\" fill=\"none\"/>\n",
              "    <path d=\"M18.56 5.44l.94 2.06.94-2.06 2.06-.94-2.06-.94-.94-2.06-.94 2.06-2.06.94zm-11 1L8.5 8.5l.94-2.06 2.06-.94-2.06-.94L8.5 2.5l-.94 2.06-2.06.94zm10 10l.94 2.06.94-2.06 2.06-.94-2.06-.94-.94-2.06-.94 2.06-2.06.94z\"/><path d=\"M17.41 7.96l-1.37-1.37c-.4-.4-.92-.59-1.43-.59-.52 0-1.04.2-1.43.59L10.3 9.45l-7.72 7.72c-.78.78-.78 2.05 0 2.83L4 21.41c.39.39.9.59 1.41.59.51 0 1.02-.2 1.41-.59l7.78-7.78 2.81-2.81c.8-.78.8-2.07 0-2.86zM5.41 20L4 18.59l7.72-7.72 1.47 1.35L5.41 20z\"/>\n",
              "  </svg>\n",
              "      </button>\n",
              "      \n",
              "  <style>\n",
              "    .colab-df-container {\n",
              "      display:flex;\n",
              "      flex-wrap:wrap;\n",
              "      gap: 12px;\n",
              "    }\n",
              "\n",
              "    .colab-df-convert {\n",
              "      background-color: #E8F0FE;\n",
              "      border: none;\n",
              "      border-radius: 50%;\n",
              "      cursor: pointer;\n",
              "      display: none;\n",
              "      fill: #1967D2;\n",
              "      height: 32px;\n",
              "      padding: 0 0 0 0;\n",
              "      width: 32px;\n",
              "    }\n",
              "\n",
              "    .colab-df-convert:hover {\n",
              "      background-color: #E2EBFA;\n",
              "      box-shadow: 0px 1px 2px rgba(60, 64, 67, 0.3), 0px 1px 3px 1px rgba(60, 64, 67, 0.15);\n",
              "      fill: #174EA6;\n",
              "    }\n",
              "\n",
              "    [theme=dark] .colab-df-convert {\n",
              "      background-color: #3B4455;\n",
              "      fill: #D2E3FC;\n",
              "    }\n",
              "\n",
              "    [theme=dark] .colab-df-convert:hover {\n",
              "      background-color: #434B5C;\n",
              "      box-shadow: 0px 1px 3px 1px rgba(0, 0, 0, 0.15);\n",
              "      filter: drop-shadow(0px 1px 2px rgba(0, 0, 0, 0.3));\n",
              "      fill: #FFFFFF;\n",
              "    }\n",
              "  </style>\n",
              "\n",
              "      <script>\n",
              "        const buttonEl =\n",
              "          document.querySelector('#df-943f00e2-09ae-407c-ae51-5dcb19ea0b2b button.colab-df-convert');\n",
              "        buttonEl.style.display =\n",
              "          google.colab.kernel.accessAllowed ? 'block' : 'none';\n",
              "\n",
              "        async function convertToInteractive(key) {\n",
              "          const element = document.querySelector('#df-943f00e2-09ae-407c-ae51-5dcb19ea0b2b');\n",
              "          const dataTable =\n",
              "            await google.colab.kernel.invokeFunction('convertToInteractive',\n",
              "                                                     [key], {});\n",
              "          if (!dataTable) return;\n",
              "\n",
              "          const docLinkHtml = 'Like what you see? Visit the ' +\n",
              "            '<a target=\"_blank\" href=https://colab.research.google.com/notebooks/data_table.ipynb>data table notebook</a>'\n",
              "            + ' to learn more about interactive tables.';\n",
              "          element.innerHTML = '';\n",
              "          dataTable['output_type'] = 'display_data';\n",
              "          await google.colab.output.renderOutput(dataTable, element);\n",
              "          const docLink = document.createElement('div');\n",
              "          docLink.innerHTML = docLinkHtml;\n",
              "          element.appendChild(docLink);\n",
              "        }\n",
              "      </script>\n",
              "    </div>\n",
              "  </div>\n",
              "  "
            ]
          },
          "metadata": {},
          "execution_count": 5
        }
      ],
      "source": [
        "df.describe()"
      ]
    },
    {
      "cell_type": "code",
      "execution_count": 6,
      "metadata": {
        "colab": {
          "base_uri": "https://localhost:8080/"
        },
        "id": "f-Kz2EhBszE_",
        "outputId": "e1b42859-4078-4ea9-eebc-1b7e45b9103c"
      },
      "outputs": [
        {
          "output_type": "stream",
          "name": "stdout",
          "text": [
            "<class 'pandas.core.frame.DataFrame'>\n",
            "RangeIndex: 2021 entries, 0 to 2020\n",
            "Data columns (total 21 columns):\n",
            " #   Column         Non-Null Count  Dtype  \n",
            "---  ------         --------------  -----  \n",
            " 0   battery_power  2021 non-null   int64  \n",
            " 1   blue           2021 non-null   int64  \n",
            " 2   clock_speed    1920 non-null   float64\n",
            " 3   dual_sim       2021 non-null   int64  \n",
            " 4   fc             2021 non-null   int64  \n",
            " 5   four_g         2021 non-null   int64  \n",
            " 6   int_memory     1915 non-null   float64\n",
            " 7   m_dep          1928 non-null   float64\n",
            " 8   mobile_wt      2021 non-null   int64  \n",
            " 9   n_cores        2021 non-null   int64  \n",
            " 10  pc             2021 non-null   int64  \n",
            " 11  px_height      2021 non-null   int64  \n",
            " 12  px_width       2021 non-null   int64  \n",
            " 13  ram            1927 non-null   float64\n",
            " 14  sc_h           2021 non-null   int64  \n",
            " 15  sc_w           2021 non-null   int64  \n",
            " 16  talk_time      1937 non-null   float64\n",
            " 17  three_g        2021 non-null   int64  \n",
            " 18  touch_screen   1925 non-null   float64\n",
            " 19  wifi           1922 non-null   float64\n",
            " 20  price_range    2021 non-null   int64  \n",
            "dtypes: float64(7), int64(14)\n",
            "memory usage: 331.7 KB\n"
          ]
        }
      ],
      "source": [
        "df.info()"
      ]
    },
    {
      "cell_type": "code",
      "source": [
        "print(\"Jumlah baris : \", df.shape[0])\n",
        "print(\"Jumlah kolom : \", df.shape[1])"
      ],
      "metadata": {
        "colab": {
          "base_uri": "https://localhost:8080/"
        },
        "id": "TcZme3x9egxw",
        "outputId": "a40097f5-e49a-40ae-98cf-cb3fee768481"
      },
      "execution_count": 7,
      "outputs": [
        {
          "output_type": "stream",
          "name": "stdout",
          "text": [
            "Jumlah baris :  2021\n",
            "Jumlah kolom :  21\n"
          ]
        }
      ]
    },
    {
      "cell_type": "code",
      "execution_count": 8,
      "metadata": {
        "colab": {
          "base_uri": "https://localhost:8080/"
        },
        "id": "9IfkRRRdtKw8",
        "outputId": "69efa61d-dfd3-439a-f913-31bcb746a901"
      },
      "outputs": [
        {
          "output_type": "execute_result",
          "data": {
            "text/plain": [
              "0       False\n",
              "1       False\n",
              "2       False\n",
              "3       False\n",
              "4       False\n",
              "        ...  \n",
              "2016    False\n",
              "2017    False\n",
              "2018    False\n",
              "2019    False\n",
              "2020    False\n",
              "Length: 2021, dtype: bool"
            ]
          },
          "metadata": {},
          "execution_count": 8
        }
      ],
      "source": [
        "df.duplicated()"
      ]
    },
    {
      "cell_type": "code",
      "execution_count": 9,
      "metadata": {
        "colab": {
          "base_uri": "https://localhost:8080/"
        },
        "id": "-jjxOWcftbs3",
        "outputId": "62cbcc24-8228-4281-9558-6e704e6b54d9"
      },
      "outputs": [
        {
          "output_type": "stream",
          "name": "stdout",
          "text": [
            "Jumlah duplikasi data : 21\n"
          ]
        }
      ],
      "source": [
        "print(\"Jumlah duplikasi data : \" + str(df.duplicated().sum()))"
      ]
    },
    {
      "cell_type": "markdown",
      "source": [
        "Kemudian, saya melakukan handling duplikasi data dengan menghapus duplikasi data tersebut"
      ],
      "metadata": {
        "id": "mUP9rCwAKYY1"
      }
    },
    {
      "cell_type": "code",
      "execution_count": 10,
      "metadata": {
        "colab": {
          "base_uri": "https://localhost:8080/"
        },
        "id": "8tE-a4E4t8Bq",
        "outputId": "3710b181-6ef3-4259-8699-487aca338045"
      },
      "outputs": [
        {
          "output_type": "stream",
          "name": "stdout",
          "text": [
            "Jumlah duplikasi data : 0\n"
          ]
        }
      ],
      "source": [
        "df_tes = df.copy()\n",
        "df_noDuplicate = df_tes.drop_duplicates(inplace = False)\n",
        "print(\"Jumlah duplikasi data : \" + str(df_noDuplicate.duplicated().sum()))"
      ]
    },
    {
      "cell_type": "markdown",
      "source": [
        "Kemudian, saya ingin melakukan handle untuk outlier yang ada pada dataset"
      ],
      "metadata": {
        "id": "HD2BhAXoKgLW"
      }
    },
    {
      "cell_type": "code",
      "execution_count": 11,
      "metadata": {
        "colab": {
          "base_uri": "https://localhost:8080/",
          "height": 1000
        },
        "id": "DfxJ2ZF7vNAM",
        "outputId": "fdff170c-ea22-4e3f-c95e-be8d78242007"
      },
      "outputs": [
        {
          "output_type": "stream",
          "name": "stderr",
          "text": [
            "/usr/local/lib/python3.7/dist-packages/matplotlib/cbook/__init__.py:1376: VisibleDeprecationWarning: Creating an ndarray from ragged nested sequences (which is a list-or-tuple of lists-or-tuples-or ndarrays with different lengths or shapes) is deprecated. If you meant to do this, you must specify 'dtype=object' when creating the ndarray.\n",
            "  X = np.atleast_1d(X.T if isinstance(X, np.ndarray) else np.asarray(X))\n"
          ]
        },
        {
          "output_type": "execute_result",
          "data": {
            "text/plain": [
              "<matplotlib.axes._subplots.AxesSubplot at 0x7f73328cfd90>"
            ]
          },
          "metadata": {},
          "execution_count": 11
        },
        {
          "output_type": "display_data",
          "data": {
            "text/plain": [
              "<Figure size 1440x1440 with 1 Axes>"
            ],
            "image/png": "[encoded data removed]"
          },
          "metadata": {
            "needs_background": "light"
          }
        }
      ],
      "source": [
        "df_noDuplicate.boxplot(vert=False,figsize=(20,20))"
      ]
    },
    {
      "cell_type": "code",
      "source": [
        "Q3 = df_noDuplicate.quantile(0.75)\n",
        "Q1 = df_noDuplicate.quantile(0.25)\n",
        "IQR = Q3-Q1\n",
        "\n",
        "Jumlah_Outlier = []\n",
        "\n",
        "for col in df_noDuplicate.select_dtypes(np.number).columns:\n",
        "    outliers = ((df_noDuplicate[col] < (Q1[col] - 1.5 * IQR[col])) | (df_noDuplicate[col] > (Q3[col] + 1.5 * IQR[col]))).sum()\n",
        "    Jumlah_Outlier.append([col, outliers, outliers/len(df_noDuplicate)])\n",
        "    \n",
        "indexOutput = list(range(0, len(Jumlah_Outlier)))\n",
        "\n",
        "pd.DataFrame(Jumlah_Outlier, columns=['Column', 'Outlier','persentase'],index=indexOutput).sort_values(by=['persentase'], ascending = False,ignore_index=True)"
      ],
      "metadata": {
        "colab": {
          "base_uri": "https://localhost:8080/",
          "height": 700
        },
        "id": "9Lj6RefzEXhO",
        "outputId": "550784e7-a358-482f-aa08-856aa28343b3"
      },
      "execution_count": 12,
      "outputs": [
        {
          "output_type": "execute_result",
          "data": {
            "text/plain": [
              "           Column  Outlier  persentase\n",
              "0         three_g      477      0.2385\n",
              "1              fc       18      0.0090\n",
              "2       px_height        2      0.0010\n",
              "3   battery_power        0      0.0000\n",
              "4            wifi        0      0.0000\n",
              "5    touch_screen        0      0.0000\n",
              "6       talk_time        0      0.0000\n",
              "7            sc_w        0      0.0000\n",
              "8            sc_h        0      0.0000\n",
              "9             ram        0      0.0000\n",
              "10       px_width        0      0.0000\n",
              "11             pc        0      0.0000\n",
              "12           blue        0      0.0000\n",
              "13        n_cores        0      0.0000\n",
              "14      mobile_wt        0      0.0000\n",
              "15          m_dep        0      0.0000\n",
              "16     int_memory        0      0.0000\n",
              "17         four_g        0      0.0000\n",
              "18       dual_sim        0      0.0000\n",
              "19    clock_speed        0      0.0000\n",
              "20    price_range        0      0.0000"
            ],
            "text/html": [
              "\n",
              "  <div id=\"df-281e3e62-a560-4cf7-9e4e-c32f7baac66a\">\n",
              "    <div class=\"colab-df-container\">\n",
              "      <div>\n",
              "<style scoped>\n",
              "    .dataframe tbody tr th:only-of-type {\n",
              "        vertical-align: middle;\n",
              "    }\n",
              "\n",
              "    .dataframe tbody tr th {\n",
              "        vertical-align: top;\n",
              "    }\n",
              "\n",
              "    .dataframe thead th {\n",
              "        text-align: right;\n",
              "    }\n",
              "</style>\n",
              "<table border=\"1\" class=\"dataframe\">\n",
              "  <thead>\n",
              "    <tr style=\"text-align: right;\">\n",
              "      <th></th>\n",
              "      <th>Column</th>\n",
              "      <th>Outlier</th>\n",
              "      <th>persentase</th>\n",
              "    </tr>\n",
              "  </thead>\n",
              "  <tbody>\n",
              "    <tr>\n",
              "      <th>0</th>\n",
              "      <td>three_g</td>\n",
              "      <td>477</td>\n",
              "      <td>0.2385</td>\n",
              "    </tr>\n",
              "    <tr>\n",
              "      <th>1</th>\n",
              "      <td>fc</td>\n",
              "      <td>18</td>\n",
              "      <td>0.0090</td>\n",
              "    </tr>\n",
              "    <tr>\n",
              "      <th>2</th>\n",
              "      <td>px_height</td>\n",
              "      <td>2</td>\n",
              "      <td>0.0010</td>\n",
              "    </tr>\n",
              "    <tr>\n",
              "      <th>3</th>\n",
              "      <td>battery_power</td>\n",
              "      <td>0</td>\n",
              "      <td>0.0000</td>\n",
              "    </tr>\n",
              "    <tr>\n",
              "      <th>4</th>\n",
              "      <td>wifi</td>\n",
              "      <td>0</td>\n",
              "      <td>0.0000</td>\n",
              "    </tr>\n",
              "    <tr>\n",
              "      <th>5</th>\n",
              "      <td>touch_screen</td>\n",
              "      <td>0</td>\n",
              "      <td>0.0000</td>\n",
              "    </tr>\n",
              "    <tr>\n",
              "      <th>6</th>\n",
              "      <td>talk_time</td>\n",
              "      <td>0</td>\n",
              "      <td>0.0000</td>\n",
              "    </tr>\n",
              "    <tr>\n",
              "      <th>7</th>\n",
              "      <td>sc_w</td>\n",
              "      <td>0</td>\n",
              "      <td>0.0000</td>\n",
              "    </tr>\n",
              "    <tr>\n",
              "      <th>8</th>\n",
              "      <td>sc_h</td>\n",
              "      <td>0</td>\n",
              "      <td>0.0000</td>\n",
              "    </tr>\n",
              "    <tr>\n",
              "      <th>9</th>\n",
              "      <td>ram</td>\n",
              "      <td>0</td>\n",
              "      <td>0.0000</td>\n",
              "    </tr>\n",
              "    <tr>\n",
              "      <th>10</th>\n",
              "      <td>px_width</td>\n",
              "      <td>0</td>\n",
              "      <td>0.0000</td>\n",
              "    </tr>\n",
              "    <tr>\n",
              "      <th>11</th>\n",
              "      <td>pc</td>\n",
              "      <td>0</td>\n",
              "      <td>0.0000</td>\n",
              "    </tr>\n",
              "    <tr>\n",
              "      <th>12</th>\n",
              "      <td>blue</td>\n",
              "      <td>0</td>\n",
              "      <td>0.0000</td>\n",
              "    </tr>\n",
              "    <tr>\n",
              "      <th>13</th>\n",
              "      <td>n_cores</td>\n",
              "      <td>0</td>\n",
              "      <td>0.0000</td>\n",
              "    </tr>\n",
              "    <tr>\n",
              "      <th>14</th>\n",
              "      <td>mobile_wt</td>\n",
              "      <td>0</td>\n",
              "      <td>0.0000</td>\n",
              "    </tr>\n",
              "    <tr>\n",
              "      <th>15</th>\n",
              "      <td>m_dep</td>\n",
              "      <td>0</td>\n",
              "      <td>0.0000</td>\n",
              "    </tr>\n",
              "    <tr>\n",
              "      <th>16</th>\n",
              "      <td>int_memory</td>\n",
              "      <td>0</td>\n",
              "      <td>0.0000</td>\n",
              "    </tr>\n",
              "    <tr>\n",
              "      <th>17</th>\n",
              "      <td>four_g</td>\n",
              "      <td>0</td>\n",
              "      <td>0.0000</td>\n",
              "    </tr>\n",
              "    <tr>\n",
              "      <th>18</th>\n",
              "      <td>dual_sim</td>\n",
              "      <td>0</td>\n",
              "      <td>0.0000</td>\n",
              "    </tr>\n",
              "    <tr>\n",
              "      <th>19</th>\n",
              "      <td>clock_speed</td>\n",
              "      <td>0</td>\n",
              "      <td>0.0000</td>\n",
              "    </tr>\n",
              "    <tr>\n",
              "      <th>20</th>\n",
              "      <td>price_range</td>\n",
              "      <td>0</td>\n",
              "      <td>0.0000</td>\n",
              "    </tr>\n",
              "  </tbody>\n",
              "</table>\n",
              "</div>\n",
              "      <button class=\"colab-df-convert\" onclick=\"convertToInteractive('df-281e3e62-a560-4cf7-9e4e-c32f7baac66a')\"\n",
              "              title=\"Convert this dataframe to an interactive table.\"\n",
              "              style=\"display:none;\">\n",
              "        \n",
              "  <svg xmlns=\"http://www.w3.org/2000/svg\" height=\"24px\"viewBox=\"0 0 24 24\"\n",
              "       width=\"24px\">\n",
              "    <path d=\"M0 0h24v24H0V0z\" fill=\"none\"/>\n",
              "    <path d=\"M18.56 5.44l.94 2.06.94-2.06 2.06-.94-2.06-.94-.94-2.06-.94 2.06-2.06.94zm-11 1L8.5 8.5l.94-2.06 2.06-.94-2.06-.94L8.5 2.5l-.94 2.06-2.06.94zm10 10l.94 2.06.94-2.06 2.06-.94-2.06-.94-.94-2.06-.94 2.06-2.06.94z\"/><path d=\"M17.41 7.96l-1.37-1.37c-.4-.4-.92-.59-1.43-.59-.52 0-1.04.2-1.43.59L10.3 9.45l-7.72 7.72c-.78.78-.78 2.05 0 2.83L4 21.41c.39.39.9.59 1.41.59.51 0 1.02-.2 1.41-.59l7.78-7.78 2.81-2.81c.8-.78.8-2.07 0-2.86zM5.41 20L4 18.59l7.72-7.72 1.47 1.35L5.41 20z\"/>\n",
              "  </svg>\n",
              "      </button>\n",
              "      \n",
              "  <style>\n",
              "    .colab-df-container {\n",
              "      display:flex;\n",
              "      flex-wrap:wrap;\n",
              "      gap: 12px;\n",
              "    }\n",
              "\n",
              "    .colab-df-convert {\n",
              "      background-color: #E8F0FE;\n",
              "      border: none;\n",
              "      border-radius: 50%;\n",
              "      cursor: pointer;\n",
              "      display: none;\n",
              "      fill: #1967D2;\n",
              "      height: 32px;\n",
              "      padding: 0 0 0 0;\n",
              "      width: 32px;\n",
              "    }\n",
              "\n",
              "    .colab-df-convert:hover {\n",
              "      background-color: #E2EBFA;\n",
              "      box-shadow: 0px 1px 2px rgba(60, 64, 67, 0.3), 0px 1px 3px 1px rgba(60, 64, 67, 0.15);\n",
              "      fill: #174EA6;\n",
              "    }\n",
              "\n",
              "    [theme=dark] .colab-df-convert {\n",
              "      background-color: #3B4455;\n",
              "      fill: #D2E3FC;\n",
              "    }\n",
              "\n",
              "    [theme=dark] .colab-df-convert:hover {\n",
              "      background-color: #434B5C;\n",
              "      box-shadow: 0px 1px 3px 1px rgba(0, 0, 0, 0.15);\n",
              "      filter: drop-shadow(0px 1px 2px rgba(0, 0, 0, 0.3));\n",
              "      fill: #FFFFFF;\n",
              "    }\n",
              "  </style>\n",
              "\n",
              "      <script>\n",
              "        const buttonEl =\n",
              "          document.querySelector('#df-281e3e62-a560-4cf7-9e4e-c32f7baac66a button.colab-df-convert');\n",
              "        buttonEl.style.display =\n",
              "          google.colab.kernel.accessAllowed ? 'block' : 'none';\n",
              "\n",
              "        async function convertToInteractive(key) {\n",
              "          const element = document.querySelector('#df-281e3e62-a560-4cf7-9e4e-c32f7baac66a');\n",
              "          const dataTable =\n",
              "            await google.colab.kernel.invokeFunction('convertToInteractive',\n",
              "                                                     [key], {});\n",
              "          if (!dataTable) return;\n",
              "\n",
              "          const docLinkHtml = 'Like what you see? Visit the ' +\n",
              "            '<a target=\"_blank\" href=https://colab.research.google.com/notebooks/data_table.ipynb>data table notebook</a>'\n",
              "            + ' to learn more about interactive tables.';\n",
              "          element.innerHTML = '';\n",
              "          dataTable['output_type'] = 'display_data';\n",
              "          await google.colab.output.renderOutput(dataTable, element);\n",
              "          const docLink = document.createElement('div');\n",
              "          docLink.innerHTML = docLinkHtml;\n",
              "          element.appendChild(docLink);\n",
              "        }\n",
              "      </script>\n",
              "    </div>\n",
              "  </div>\n",
              "  "
            ]
          },
          "metadata": {},
          "execution_count": 12
        }
      ]
    },
    {
      "cell_type": "markdown",
      "metadata": {
        "id": "ol_0gXPkv18-"
      },
      "source": [
        "Persentase outlier sangat sedikit pada dataset ini kecuali pada atribut three_g yaitu sebanyak 23.85%"
      ]
    },
    {
      "cell_type": "markdown",
      "source": [
        "Karena jumlah outlier cukup banyak untuk fitur three_g maka outlier-outlier tersebut tidak dihapus"
      ],
      "metadata": {
        "id": "RSmqea0c6gqr"
      }
    },
    {
      "cell_type": "code",
      "source": [
        "ax = df_noDuplicate['three_g'].plot.hist()\n",
        "ax.set_ylabel(\"frequecy\")\n",
        "ax.set_xlabel(\"three_g_count\")"
      ],
      "metadata": {
        "colab": {
          "base_uri": "https://localhost:8080/",
          "height": 297
        },
        "id": "CLasjHuJJOMY",
        "outputId": "67ffa682-f1c3-48fc-d672-308018b220e1"
      },
      "execution_count": 13,
      "outputs": [
        {
          "output_type": "execute_result",
          "data": {
            "text/plain": [
              "Text(0.5, 0, 'three_g_count')"
            ]
          },
          "metadata": {},
          "execution_count": 13
        },
        {
          "output_type": "display_data",
          "data": {
            "text/plain": [
              "<Figure size 432x288 with 1 Axes>"
            ],
            "image/png": "[encoded data removed]"
          },
          "metadata": {
            "needs_background": "light"
          }
        }
      ]
    },
    {
      "cell_type": "markdown",
      "source": [
        "Fitur three_g sendiri merupakan categorical feature dan menurut saya perbandingan nilainya 0 dan 1 masih masuk akal sehingga tidak dilakukan handling outlier"
      ],
      "metadata": {
        "id": "dgpvp67CKn_v"
      }
    },
    {
      "cell_type": "markdown",
      "source": [
        "Kemudian saya melakukan handling untuk missing values. Berikut merupakan atribut-atribut yang memiliki missing values"
      ],
      "metadata": {
        "id": "kB6N2zCQKx4z"
      }
    },
    {
      "cell_type": "code",
      "execution_count": 14,
      "metadata": {
        "colab": {
          "base_uri": "https://localhost:8080/"
        },
        "id": "bhJEi35wtFAv",
        "outputId": "f6f7afb1-42c3-4eca-9a91-505c24c346fd"
      },
      "outputs": [
        {
          "output_type": "stream",
          "name": "stdout",
          "text": [
            "              Total  Percent\n",
            "talk_time        84   0.0420\n",
            "m_dep            90   0.0450\n",
            "ram              94   0.0470\n",
            "touch_screen     96   0.0480\n",
            "wifi             98   0.0490\n",
            "clock_speed      99   0.0495\n",
            "int_memory      106   0.0530\n"
          ]
        }
      ],
      "source": [
        "def cek_null(df):\n",
        "    col_na = df.isnull().sum().sort_values(ascending=True)\n",
        "    percent = col_na / len(df)\n",
        "    \n",
        "    missing_data = pd.concat([col_na, percent], axis=1, keys=['Total', 'Percent'])\n",
        "    \n",
        "    if (missing_data[missing_data['Total'] > 0].shape[0] == 0):\n",
        "        print(\"Tidak ditemukan missing value pada dataset\")\n",
        "        \n",
        "    else:\n",
        "        print(missing_data[missing_data['Total'] > 0])\n",
        "\n",
        "cek_null(df_noDuplicate)"
      ]
    },
    {
      "cell_type": "markdown",
      "source": [
        "Kemudian, kita lihat distribusi dari atribut-atribut numerical yang memiliki null value"
      ],
      "metadata": {
        "id": "qNf90VhTAQVL"
      }
    },
    {
      "cell_type": "code",
      "source": [
        "def countplot(column1):\n",
        "  column = df[column1]\n",
        "  plt.figure(figsize=(10,5))\n",
        "  sns.kdeplot(column, shade=True)\n",
        "  plt.show()"
      ],
      "metadata": {
        "id": "4pQFEMK57gwW"
      },
      "execution_count": 15,
      "outputs": []
    },
    {
      "cell_type": "code",
      "source": [
        "countplot('talk_time')"
      ],
      "metadata": {
        "colab": {
          "base_uri": "https://localhost:8080/",
          "height": 335
        },
        "id": "mD9ZzJzYCDJm",
        "outputId": "410c8872-111b-4c0b-f25f-9206d896ec21"
      },
      "execution_count": 16,
      "outputs": [
        {
          "output_type": "display_data",
          "data": {
            "text/plain": [
              "<Figure size 720x360 with 1 Axes>"
            ],
            "image/png": "[encoded data removed]"
          },
          "metadata": {
            "needs_background": "light"
          }
        }
      ]
    },
    {
      "cell_type": "code",
      "source": [
        "df_noDuplicate.boxplot(column=['talk_time'], figsize=(20,3))"
      ],
      "metadata": {
        "colab": {
          "base_uri": "https://localhost:8080/",
          "height": 229
        },
        "id": "AgzlYf-hGZXn",
        "outputId": "2e38a525-3c6a-46a7-fd78-5f973c8f72d4"
      },
      "execution_count": 17,
      "outputs": [
        {
          "output_type": "execute_result",
          "data": {
            "text/plain": [
              "<matplotlib.axes._subplots.AxesSubplot at 0x7f7331bb6790>"
            ]
          },
          "metadata": {},
          "execution_count": 17
        },
        {
          "output_type": "display_data",
          "data": {
            "text/plain": [
              "<Figure size 1440x216 with 1 Axes>"
            ],
            "image/png": "[encoded data removed]"
          },
          "metadata": {
            "needs_background": "light"
          }
        }
      ]
    },
    {
      "cell_type": "markdown",
      "source": [
        "Karena distribusi atribut talk_time berbentuk cukup simetris dan tidak ada outlier, maka saya akan mengisi null value pada atribut talk_time dengan mean"
      ],
      "metadata": {
        "id": "DzosdUPWCQTh"
      }
    },
    {
      "cell_type": "code",
      "source": [
        "df_cleaned = df_noDuplicate.copy()\n",
        "col = ['talk_time']\n",
        "for c in col:\n",
        "    mean = int(df_cleaned[~df_cleaned.isna()].talk_time.mean())\n",
        "    df_cleaned[c] = df_cleaned[c].fillna(mean)"
      ],
      "metadata": {
        "id": "7lNzBptRCaGX"
      },
      "execution_count": 18,
      "outputs": []
    },
    {
      "cell_type": "code",
      "source": [
        "countplot('m_dep')"
      ],
      "metadata": {
        "colab": {
          "base_uri": "https://localhost:8080/",
          "height": 335
        },
        "id": "wHnLJ5ZmCJnn",
        "outputId": "583e9bb1-d66b-404a-a8a4-040a2428f55d"
      },
      "execution_count": 19,
      "outputs": [
        {
          "output_type": "display_data",
          "data": {
            "text/plain": [
              "<Figure size 720x360 with 1 Axes>"
            ],
            "image/png": "[encoded data removed]"
          },
          "metadata": {
            "needs_background": "light"
          }
        }
      ]
    },
    {
      "cell_type": "code",
      "source": [
        "df_noDuplicate.boxplot(column=['m_dep'], figsize=(20,3))"
      ],
      "metadata": {
        "colab": {
          "base_uri": "https://localhost:8080/",
          "height": 229
        },
        "id": "kR7NPNJZGm-E",
        "outputId": "642334bc-305f-4d7f-dd6e-66a5c05977a6"
      },
      "execution_count": 20,
      "outputs": [
        {
          "output_type": "execute_result",
          "data": {
            "text/plain": [
              "<matplotlib.axes._subplots.AxesSubplot at 0x7f7331adedd0>"
            ]
          },
          "metadata": {},
          "execution_count": 20
        },
        {
          "output_type": "display_data",
          "data": {
            "text/plain": [
              "<Figure size 1440x216 with 1 Axes>"
            ],
            "image/png": "[encoded data removed]"
          },
          "metadata": {
            "needs_background": "light"
          }
        }
      ]
    },
    {
      "cell_type": "code",
      "source": [
        "df_noDuplicate['m_dep'].skew()"
      ],
      "metadata": {
        "colab": {
          "base_uri": "https://localhost:8080/"
        },
        "id": "G_JZSuRl8Ijw",
        "outputId": "4b263518-926c-4629-db94-15b8d323731c"
      },
      "execution_count": 21,
      "outputs": [
        {
          "output_type": "execute_result",
          "data": {
            "text/plain": [
              "0.09087458555814715"
            ]
          },
          "metadata": {},
          "execution_count": 21
        }
      ]
    },
    {
      "cell_type": "markdown",
      "source": [
        "Karena distribusi atribut m_dep berbentuk sedikit skewed dan tidak ada outlier, maka saya akan mengisi null value pada atribut m_dep dengan median"
      ],
      "metadata": {
        "id": "xI6kPkPPFL9_"
      }
    },
    {
      "cell_type": "code",
      "source": [
        "col = ['m_dep']\n",
        "for c in col:\n",
        "    median = int(df_cleaned[~df_cleaned.isna()].m_dep.median())\n",
        "    df_cleaned[c] = df_cleaned[c].fillna(median)"
      ],
      "metadata": {
        "id": "_KSRLt5uFWaX"
      },
      "execution_count": 22,
      "outputs": []
    },
    {
      "cell_type": "code",
      "source": [
        "countplot('ram')"
      ],
      "metadata": {
        "colab": {
          "base_uri": "https://localhost:8080/",
          "height": 334
        },
        "id": "InWSEJZ4CKLr",
        "outputId": "3fbbca0f-55f2-4443-901f-d32047a82ae6"
      },
      "execution_count": 23,
      "outputs": [
        {
          "output_type": "display_data",
          "data": {
            "text/plain": [
              "<Figure size 720x360 with 1 Axes>"
            ],
            "image/png": "[encoded data removed]"
          },
          "metadata": {
            "needs_background": "light"
          }
        }
      ]
    },
    {
      "cell_type": "code",
      "source": [
        "df_noDuplicate.boxplot(column=['ram'], figsize=(20,3))"
      ],
      "metadata": {
        "colab": {
          "base_uri": "https://localhost:8080/",
          "height": 228
        },
        "id": "sWpkVeRZGulW",
        "outputId": "ab1dc9d3-0f83-4b5e-c18e-2640baac9310"
      },
      "execution_count": 24,
      "outputs": [
        {
          "output_type": "execute_result",
          "data": {
            "text/plain": [
              "<matplotlib.axes._subplots.AxesSubplot at 0x7f7331a69f90>"
            ]
          },
          "metadata": {},
          "execution_count": 24
        },
        {
          "output_type": "display_data",
          "data": {
            "text/plain": [
              "<Figure size 1440x216 with 1 Axes>"
            ],
            "image/png": "[encoded data removed]"
          },
          "metadata": {
            "needs_background": "light"
          }
        }
      ]
    },
    {
      "cell_type": "code",
      "source": [
        "df_noDuplicate['ram'].skew()"
      ],
      "metadata": {
        "colab": {
          "base_uri": "https://localhost:8080/"
        },
        "id": "zQNoP8oh7NcM",
        "outputId": "b8d73bd2-53de-4a16-820c-badcf9a396f5"
      },
      "execution_count": 25,
      "outputs": [
        {
          "output_type": "execute_result",
          "data": {
            "text/plain": [
              "0.016832084179637528"
            ]
          },
          "metadata": {},
          "execution_count": 25
        }
      ]
    },
    {
      "cell_type": "markdown",
      "source": [
        "Karena distribusi atribut ram berbentuk tidak begitu skewed dan tidak ada outlier, maka saya akan mengisi null value pada atribut ram dengan mean"
      ],
      "metadata": {
        "id": "_mIce5dQFcEE"
      }
    },
    {
      "cell_type": "code",
      "source": [
        "col = ['ram']\n",
        "for c in col:\n",
        "    mean = int(df_cleaned[~df_cleaned.isna()].ram.mean())\n",
        "    df_cleaned[c] = df_cleaned[c].fillna(mean)"
      ],
      "metadata": {
        "id": "MzYXRU63Fj7l"
      },
      "execution_count": 26,
      "outputs": []
    },
    {
      "cell_type": "code",
      "source": [
        "countplot('clock_speed')"
      ],
      "metadata": {
        "colab": {
          "base_uri": "https://localhost:8080/",
          "height": 335
        },
        "id": "9eWqH9hSCLaG",
        "outputId": "0e5bc761-6909-4890-ff40-54dfb97b463a"
      },
      "execution_count": 27,
      "outputs": [
        {
          "output_type": "display_data",
          "data": {
            "text/plain": [
              "<Figure size 720x360 with 1 Axes>"
            ],
            "image/png": "[encoded data removed]"
          },
          "metadata": {
            "needs_background": "light"
          }
        }
      ]
    },
    {
      "cell_type": "code",
      "source": [
        "df_noDuplicate.boxplot(column=['clock_speed'], figsize=(20,3))"
      ],
      "metadata": {
        "colab": {
          "base_uri": "https://localhost:8080/",
          "height": 229
        },
        "id": "2MmkHRiGGxxA",
        "outputId": "e0f8bc96-fcfb-4779-d103-4194ab6dcac5"
      },
      "execution_count": 28,
      "outputs": [
        {
          "output_type": "execute_result",
          "data": {
            "text/plain": [
              "<matplotlib.axes._subplots.AxesSubplot at 0x7f7331c02a10>"
            ]
          },
          "metadata": {},
          "execution_count": 28
        },
        {
          "output_type": "display_data",
          "data": {
            "text/plain": [
              "<Figure size 1440x216 with 1 Axes>"
            ],
            "image/png": "[encoded data removed]"
          },
          "metadata": {
            "needs_background": "light"
          }
        }
      ]
    },
    {
      "cell_type": "code",
      "source": [
        "df_noDuplicate['clock_speed'].skew()"
      ],
      "metadata": {
        "colab": {
          "base_uri": "https://localhost:8080/"
        },
        "id": "xkRLO8iF7hGa",
        "outputId": "9f65c0cd-e514-43ab-aca4-702c88a9406b"
      },
      "execution_count": 29,
      "outputs": [
        {
          "output_type": "execute_result",
          "data": {
            "text/plain": [
              "0.17802772732692415"
            ]
          },
          "metadata": {},
          "execution_count": 29
        }
      ]
    },
    {
      "cell_type": "markdown",
      "source": [
        "Karena distribusi atribut clock_speed tidak ada outlier namun cukup skewed, maka saya akan mengisi null value pada atribut clock_speed dengan median"
      ],
      "metadata": {
        "id": "1AvOeWOrHl47"
      }
    },
    {
      "cell_type": "code",
      "source": [
        "col = ['clock_speed']\n",
        "for c in col:\n",
        "    median = int(df_cleaned[~df_cleaned.isna()].clock_speed.median())\n",
        "    df_cleaned[c] = df_cleaned[c].fillna(median)"
      ],
      "metadata": {
        "id": "YzVX-n8jHszb"
      },
      "execution_count": 30,
      "outputs": []
    },
    {
      "cell_type": "code",
      "source": [
        "countplot('int_memory')"
      ],
      "metadata": {
        "colab": {
          "base_uri": "https://localhost:8080/",
          "height": 335
        },
        "id": "_h8RvXR6CL3o",
        "outputId": "7b070ab3-c667-46b1-80cb-d0ffb980b0bc"
      },
      "execution_count": 31,
      "outputs": [
        {
          "output_type": "display_data",
          "data": {
            "text/plain": [
              "<Figure size 720x360 with 1 Axes>"
            ],
            "image/png": "[encoded data removed]"
          },
          "metadata": {
            "needs_background": "light"
          }
        }
      ]
    },
    {
      "cell_type": "code",
      "source": [
        "df_noDuplicate.boxplot(column=['int_memory'], figsize=(20,3))"
      ],
      "metadata": {
        "colab": {
          "base_uri": "https://localhost:8080/",
          "height": 229
        },
        "id": "mz7p1c_IG4qg",
        "outputId": "cbbcdc90-bad9-4f5e-e7b1-e8f3b7122bd0"
      },
      "execution_count": 32,
      "outputs": [
        {
          "output_type": "execute_result",
          "data": {
            "text/plain": [
              "<matplotlib.axes._subplots.AxesSubplot at 0x7f7331937890>"
            ]
          },
          "metadata": {},
          "execution_count": 32
        },
        {
          "output_type": "display_data",
          "data": {
            "text/plain": [
              "<Figure size 1440x216 with 1 Axes>"
            ],
            "image/png": "[encoded data removed]"
          },
          "metadata": {
            "needs_background": "light"
          }
        }
      ]
    },
    {
      "cell_type": "code",
      "source": [
        "df_noDuplicate['int_memory'].skew()"
      ],
      "metadata": {
        "colab": {
          "base_uri": "https://localhost:8080/"
        },
        "id": "9E39RZC-772L",
        "outputId": "403b824e-f0e5-4348-ce36-7568edb993dd"
      },
      "execution_count": 33,
      "outputs": [
        {
          "output_type": "execute_result",
          "data": {
            "text/plain": [
              "0.057429334425199374"
            ]
          },
          "metadata": {},
          "execution_count": 33
        }
      ]
    },
    {
      "cell_type": "markdown",
      "source": [
        "Karena distribusi atribut int_memory berbentuk cukup simetri dan tidak ada outlier, maka saya akan mengisi null value pada atribut clock_speed dengan mean"
      ],
      "metadata": {
        "id": "1LIGDcBaBypw"
      }
    },
    {
      "cell_type": "code",
      "source": [
        "col = ['int_memory']\n",
        "for c in col:\n",
        "    mean = int(df_cleaned[~df_cleaned.isna()].int_memory.mean())\n",
        "    df_cleaned[c] = df_cleaned[c].fillna(mean)"
      ],
      "metadata": {
        "id": "l27ARUz2IFM7"
      },
      "execution_count": 34,
      "outputs": []
    },
    {
      "cell_type": "markdown",
      "source": [
        "Kemudian saya mengisi null values yang ada pada kategorical attribute dengan nilai modus"
      ],
      "metadata": {
        "id": "HHZ8rBVBJsBX"
      }
    },
    {
      "cell_type": "code",
      "source": [
        "col = ['touch_screen']\n",
        "for c in col:\n",
        "    mode = int(df_cleaned[~df_cleaned.isna()].touch_screen.mode())\n",
        "    df_cleaned[c] = df_cleaned[c].fillna(mode)"
      ],
      "metadata": {
        "id": "op56uORaJydj"
      },
      "execution_count": 35,
      "outputs": []
    },
    {
      "cell_type": "code",
      "source": [
        "col = ['wifi']\n",
        "for c in col:\n",
        "    mode = int(df_cleaned[~df_cleaned.isna()].wifi.mode())\n",
        "    df_cleaned[c] = df_cleaned[c].fillna(mode)"
      ],
      "metadata": {
        "id": "IzpddaUfJy0H"
      },
      "execution_count": 36,
      "outputs": []
    },
    {
      "cell_type": "code",
      "source": [
        "cek_null(df_cleaned)"
      ],
      "metadata": {
        "colab": {
          "base_uri": "https://localhost:8080/"
        },
        "id": "gycNHWMDKAnn",
        "outputId": "c4fc3b7d-5bdc-4dfd-a76d-2021e0d55567"
      },
      "execution_count": 37,
      "outputs": [
        {
          "output_type": "stream",
          "name": "stdout",
          "text": [
            "Tidak ditemukan missing value pada dataset\n"
          ]
        }
      ]
    },
    {
      "cell_type": "markdown",
      "source": [
        "Dapat dilihat di atas bahwa sudah tidak ada null values pada data set"
      ],
      "metadata": {
        "id": "VnZ-OUJRLOvG"
      }
    },
    {
      "cell_type": "markdown",
      "metadata": {
        "id": "1Dy5ZSFiaJ-j"
      },
      "source": [
        "3\\. [3] Menurut Anda, apakah perlu dilakukan normalisasi terhadap data, atau cukup menggunakan data asli? Jika ya, bentuk normalisasi apa yang tepat digunakan pada data? Jelaskan secara singkat alasan Anda!\n"
      ]
    },
    {
      "cell_type": "markdown",
      "metadata": {
        "id": "rpXss7aMVSrl"
      },
      "source": [
        "> Jawaban: \n",
        "\n",
        "> Menurut saya, Ya perlu dilakukan normalisasi. Hal tersebut karena range antar atribut numerical berbeda-beda sehingga kita butuh melakukan standardisasi. Selain itu, kelebihan normalisasi antara lain adalah:\n",
        "Ingin mengurangi penggunaan memori,\n",
        "Mempercepat jalannya prediksi pada model prediksi tertentu,\n",
        "Mempengaruhi performa model klasifikasi tertentu, clustering,\n",
        "Menghitung covariance matrix,\n",
        "Menerapkan asumsi untuk tes hipotesis data tertentu,\n",
        "Menjauhi/menghilangkan/mengecilkan outliers,\n",
        "Terdapat column yang memiliki range value yang berbeda jauh dengan yang lainnya, dan\n",
        "Terdapat value yang memiliki nilai jauh lebih besar.\n",
        "\n",
        "Saya memilih menggunakan MinMaxScaler dalam normalisasi karena outlier pada dataset ini sedikit. Melalui MinMaxScaler, ia mengubah distribusi data dalam range 0 - 1. Selain itu, MinMaxScaler mempertahankan bentuk distribusi aslinya dan tidak mengubah informasi dari dataset yang asli."
      ]
    },
    {
      "cell_type": "markdown",
      "metadata": {
        "id": "SJSs0FIUZRrl"
      },
      "source": [
        "4\\. [10] Sebelum data diproses lebih lanjut lakukan *feature selection* dengan memilih beberapa fitur yang paling optimal untuk mengklasifikasikan label target!"
      ]
    },
    {
      "cell_type": "markdown",
      "source": [
        "Pertama-tama, saya coba melihat korelasi antara fitur-fitur dengan target feature. Saya menggunakan heatmap untuk memvisualisasikannya untuk melihat gambaran secara keseluruhan"
      ],
      "metadata": {
        "id": "577V9jqexMah"
      }
    },
    {
      "cell_type": "code",
      "source": [
        "corrmat = df_cleaned.corr()\n",
        "top_corr_features = corrmat.index\n",
        "plt.figure(figsize=(20,20))\n",
        "#plot heat map\n",
        "g=sns.heatmap(df_cleaned[top_corr_features].corr(),annot=True,cmap=\"RdYlGn\")"
      ],
      "metadata": {
        "colab": {
          "base_uri": "https://localhost:8080/",
          "height": 1000
        },
        "id": "9FzzXTJKwAYi",
        "outputId": "6dd5333e-1b1c-43e2-db79-268d4afe2f08"
      },
      "execution_count": 38,
      "outputs": [
        {
          "output_type": "display_data",
          "data": {
            "text/plain": [
              "<Figure size 1440x1440 with 2 Axes>"
            ],
            "image/png": "[encoded data removed]"
          },
          "metadata": {
            "needs_background": "light"
          }
        }
      ]
    },
    {
      "cell_type": "markdown",
      "source": [
        "Kemudian, saya memisahkan terlebih dahulu target variable yaitu price_range dari dataset"
      ],
      "metadata": {
        "id": "CBDN73MzvGbY"
      }
    },
    {
      "cell_type": "code",
      "source": [
        "y = df_cleaned.price_range # Target variable             \n",
        "df_cleaned.drop(['price_range'], axis=1, inplace=True) # Removing target variable from training data"
      ],
      "metadata": {
        "id": "v3SvpC9VRf3a"
      },
      "execution_count": 39,
      "outputs": []
    },
    {
      "cell_type": "markdown",
      "source": [
        "Kemudian, saya melakukan feature selection dengan metode wrapper dengan cara backwards"
      ],
      "metadata": {
        "id": "Y_mfCsU2vNHs"
      }
    },
    {
      "cell_type": "code",
      "source": [
        "import statsmodels.api as sm\n",
        "\n",
        "X_1 = sm.add_constant(df_cleaned)\n",
        "#Fitting sm.OLS model\n",
        "model = sm.OLS(y,X_1).fit()\n",
        "model.pvalues\n",
        "\n",
        "\n",
        "#Backward Elimination\n",
        "cols = list(df_cleaned.columns)\n",
        "pmax = 1\n",
        "while (len(cols)>0):\n",
        "    p= []\n",
        "    X_1 = df_cleaned[cols]\n",
        "    X_1 = sm.add_constant(X_1)\n",
        "    model = sm.OLS(y,X_1).fit()\n",
        "    p = pd.Series(model.pvalues.values[1:],index = cols)      \n",
        "    pmax = max(p)\n",
        "    feature_with_p_max = p.idxmax()\n",
        "    if(pmax>0.05):\n",
        "        cols.remove(feature_with_p_max)\n",
        "    else:\n",
        "        break\n",
        "selected_features_BE = cols\n",
        "print(selected_features_BE)"
      ],
      "metadata": {
        "colab": {
          "base_uri": "https://localhost:8080/"
        },
        "id": "Ol--bI04R4L8",
        "outputId": "478f57fa-d8f4-4263-e095-4bde487beee4"
      },
      "execution_count": 40,
      "outputs": [
        {
          "output_type": "stream",
          "name": "stderr",
          "text": [
            "/usr/local/lib/python3.7/dist-packages/statsmodels/tsa/tsatools.py:142: FutureWarning: In a future version of pandas all arguments of concat except for the argument 'objs' will be keyword-only\n",
            "  x = pd.concat(x[::order], 1)\n",
            "/usr/local/lib/python3.7/dist-packages/statsmodels/tsa/tsatools.py:142: FutureWarning: In a future version of pandas all arguments of concat except for the argument 'objs' will be keyword-only\n",
            "  x = pd.concat(x[::order], 1)\n",
            "/usr/local/lib/python3.7/dist-packages/statsmodels/tsa/tsatools.py:142: FutureWarning: In a future version of pandas all arguments of concat except for the argument 'objs' will be keyword-only\n",
            "  x = pd.concat(x[::order], 1)\n",
            "/usr/local/lib/python3.7/dist-packages/statsmodels/tsa/tsatools.py:142: FutureWarning: In a future version of pandas all arguments of concat except for the argument 'objs' will be keyword-only\n",
            "  x = pd.concat(x[::order], 1)\n",
            "/usr/local/lib/python3.7/dist-packages/statsmodels/tsa/tsatools.py:142: FutureWarning: In a future version of pandas all arguments of concat except for the argument 'objs' will be keyword-only\n",
            "  x = pd.concat(x[::order], 1)\n",
            "/usr/local/lib/python3.7/dist-packages/statsmodels/tsa/tsatools.py:142: FutureWarning: In a future version of pandas all arguments of concat except for the argument 'objs' will be keyword-only\n",
            "  x = pd.concat(x[::order], 1)\n",
            "/usr/local/lib/python3.7/dist-packages/statsmodels/tsa/tsatools.py:142: FutureWarning: In a future version of pandas all arguments of concat except for the argument 'objs' will be keyword-only\n",
            "  x = pd.concat(x[::order], 1)\n",
            "/usr/local/lib/python3.7/dist-packages/statsmodels/tsa/tsatools.py:142: FutureWarning: In a future version of pandas all arguments of concat except for the argument 'objs' will be keyword-only\n",
            "  x = pd.concat(x[::order], 1)\n",
            "/usr/local/lib/python3.7/dist-packages/statsmodels/tsa/tsatools.py:142: FutureWarning: In a future version of pandas all arguments of concat except for the argument 'objs' will be keyword-only\n",
            "  x = pd.concat(x[::order], 1)\n",
            "/usr/local/lib/python3.7/dist-packages/statsmodels/tsa/tsatools.py:142: FutureWarning: In a future version of pandas all arguments of concat except for the argument 'objs' will be keyword-only\n",
            "  x = pd.concat(x[::order], 1)\n",
            "/usr/local/lib/python3.7/dist-packages/statsmodels/tsa/tsatools.py:142: FutureWarning: In a future version of pandas all arguments of concat except for the argument 'objs' will be keyword-only\n",
            "  x = pd.concat(x[::order], 1)\n",
            "/usr/local/lib/python3.7/dist-packages/statsmodels/tsa/tsatools.py:142: FutureWarning: In a future version of pandas all arguments of concat except for the argument 'objs' will be keyword-only\n",
            "  x = pd.concat(x[::order], 1)\n",
            "/usr/local/lib/python3.7/dist-packages/statsmodels/tsa/tsatools.py:142: FutureWarning: In a future version of pandas all arguments of concat except for the argument 'objs' will be keyword-only\n",
            "  x = pd.concat(x[::order], 1)\n"
          ]
        },
        {
          "output_type": "stream",
          "name": "stdout",
          "text": [
            "['battery_power', 'mobile_wt', 'px_height', 'px_width', 'ram']\n"
          ]
        },
        {
          "output_type": "stream",
          "name": "stderr",
          "text": [
            "/usr/local/lib/python3.7/dist-packages/statsmodels/tsa/tsatools.py:142: FutureWarning: In a future version of pandas all arguments of concat except for the argument 'objs' will be keyword-only\n",
            "  x = pd.concat(x[::order], 1)\n",
            "/usr/local/lib/python3.7/dist-packages/statsmodels/tsa/tsatools.py:142: FutureWarning: In a future version of pandas all arguments of concat except for the argument 'objs' will be keyword-only\n",
            "  x = pd.concat(x[::order], 1)\n",
            "/usr/local/lib/python3.7/dist-packages/statsmodels/tsa/tsatools.py:142: FutureWarning: In a future version of pandas all arguments of concat except for the argument 'objs' will be keyword-only\n",
            "  x = pd.concat(x[::order], 1)\n",
            "/usr/local/lib/python3.7/dist-packages/statsmodels/tsa/tsatools.py:142: FutureWarning: In a future version of pandas all arguments of concat except for the argument 'objs' will be keyword-only\n",
            "  x = pd.concat(x[::order], 1)\n"
          ]
        }
      ]
    },
    {
      "cell_type": "markdown",
      "metadata": {
        "id": "cRnGaYKzYCzQ"
      },
      "source": [
        "5\\. [6] Apa saja fitur-fitur yang terpilih hasil dari *feature selection*? Jelaskan strategi Anda dalam memilih fitur-fitur tersebut dan berikan analisis mengapa fitur tersebut cocok digunakan untuk mengklasifikasi label target!"
      ]
    },
    {
      "cell_type": "markdown",
      "metadata": {
        "id": "CIXT6s0CYXMr"
      },
      "source": [
        "> Jawaban: Fitur yang dari hasil feature selection ada 5, yaitu\n",
        "['battery_power', 'mobile_wt', 'px_height', 'px_width', 'ram']\n",
        "\n",
        "Pertama-tama, saya menggunakan cara wrapper karena walaupun metode wrapper time consuming, namun hasil dari metode wrapper lebih akurat karena kita membandingkan kinerjanya jika subset fitur dijadikan input ke algoritma machine learning lalu diambil yang performanya paling tinggi. Untuk \"mempermudah\" kinerjanya supaya tidak secara brute force, maka saya menggunakan sequential feature selection secara backwards. Cara kerjanya, awalnya metode wrapper menggunakan semua fitur dahulu, lalu di setiap iterasi dilihat mana yang paling terbaik sehingga dari hasil tersebut dapat dieliminasi satu fitur, yaitu fitur yang tidak diinclude pada hasil iterasi yang terbaik. Dari metode wrapper secara backwards ini, didapatkan 5 fitur di atas yang sudah saya tuliskan. Hasil dari metode wrapper ini juga sejalan dengan korelasi yang dihasilkan pada heatmap di atas. Fitur battery_power, mobile_wt, px_height, px_width, dan ram memiliki korelasi yang paling menonjol dengan fitur price_range sehingga fitur tersebut cocok digunakan untuk mengklasifikasi label target\n",
        "\n",
        "> "
      ]
    },
    {
      "cell_type": "markdown",
      "source": [
        "Setelah dilakukan feature selection, maka saya menstardadisasi feature-feature yang sudah dipilih tersebut dengan MinMaxScaler"
      ],
      "metadata": {
        "id": "4uPYntnDe8M8"
      }
    },
    {
      "cell_type": "code",
      "source": [
        "df_fixed = df_cleaned[['battery_power', 'mobile_wt', 'px_height', 'px_width', 'ram']]\n",
        "\n",
        "scaler = MinMaxScaler(copy=True, clip=False, feature_range=(0, 1))\n",
        "# Transform data\n",
        "scaled = scaler.fit_transform(df_fixed)\n",
        "\n",
        "df_fixed = pd.DataFrame(scaled)"
      ],
      "metadata": {
        "id": "c7-C6vq00hRd"
      },
      "execution_count": 41,
      "outputs": []
    },
    {
      "cell_type": "markdown",
      "metadata": {
        "id": "Zd_2N68bWAkj"
      },
      "source": [
        "## [75] **Classification**"
      ]
    },
    {
      "cell_type": "markdown",
      "metadata": {
        "id": "avihHMUe3Wr5"
      },
      "source": [
        "**Pada bagian ini Anda akan diminta untuk melakukan klasifikasi harga suatu mobile phone berdasarkan fitur-fitur yang sudah Anda pilih sebelumnya. Anda akan mencoba berbagai macam model klasifikasi seperti Decision Tree, Random Forest, Naive Bayes, dan K-nearest Neighbors untuk mencari model yang memiliki performa terbaik.**"
      ]
    },
    {
      "cell_type": "markdown",
      "metadata": {
        "id": "0BU-UDpS_vux"
      },
      "source": [
        "### [3] Preparation"
      ]
    },
    {
      "cell_type": "markdown",
      "metadata": {
        "id": "k0Rx9ijj1vxn"
      },
      "source": [
        "6\\. [3] Buatlah model K-Fold Cross Validation yang akan digunakan untuk membagi dataset train dan test menjadi beberapa bagian (*fold*). Strategi ini akan Anda gunakan pada semua *classifier* dibandingkan dengan strategi sebelumnya yang hanya membagi data ke dalam data training dan testing menggunakan method `train_test_split`."
      ]
    },
    {
      "cell_type": "code",
      "execution_count": 42,
      "metadata": {
        "id": "OH_X8ztTiPNk",
        "colab": {
          "base_uri": "https://localhost:8080/",
          "height": 221
        },
        "outputId": "2a7b630d-f215-4051-d9a6-67bf4ae741c3"
      },
      "outputs": [
        {
          "output_type": "stream",
          "name": "stdout",
          "text": [
            "Shape of input data: (2000, 5) and shape of target variable: (2000,)\n"
          ]
        },
        {
          "output_type": "execute_result",
          "data": {
            "text/plain": [
              "          0         1         2         3         4\n",
              "0  0.227789  0.900000  0.010204  0.170895  0.612774\n",
              "1  0.347361  0.466667  0.461735  0.993324  0.634687\n",
              "2  0.041416  0.541667  0.644388  0.811749  0.627205\n",
              "3  0.076152  0.425000  0.620408  0.858478  0.671566\n",
              "4  0.881764  0.508333  0.616327  0.475300  0.308658"
            ],
            "text/html": [
              "\n",
              "  <div id=\"df-843a6ea8-257f-4310-86ee-6f0b3432aff3\">\n",
              "    <div class=\"colab-df-container\">\n",
              "      <div>\n",
              "<style scoped>\n",
              "    .dataframe tbody tr th:only-of-type {\n",
              "        vertical-align: middle;\n",
              "    }\n",
              "\n",
              "    .dataframe tbody tr th {\n",
              "        vertical-align: top;\n",
              "    }\n",
              "\n",
              "    .dataframe thead th {\n",
              "        text-align: right;\n",
              "    }\n",
              "</style>\n",
              "<table border=\"1\" class=\"dataframe\">\n",
              "  <thead>\n",
              "    <tr style=\"text-align: right;\">\n",
              "      <th></th>\n",
              "      <th>0</th>\n",
              "      <th>1</th>\n",
              "      <th>2</th>\n",
              "      <th>3</th>\n",
              "      <th>4</th>\n",
              "    </tr>\n",
              "  </thead>\n",
              "  <tbody>\n",
              "    <tr>\n",
              "      <th>0</th>\n",
              "      <td>0.227789</td>\n",
              "      <td>0.900000</td>\n",
              "      <td>0.010204</td>\n",
              "      <td>0.170895</td>\n",
              "      <td>0.612774</td>\n",
              "    </tr>\n",
              "    <tr>\n",
              "      <th>1</th>\n",
              "      <td>0.347361</td>\n",
              "      <td>0.466667</td>\n",
              "      <td>0.461735</td>\n",
              "      <td>0.993324</td>\n",
              "      <td>0.634687</td>\n",
              "    </tr>\n",
              "    <tr>\n",
              "      <th>2</th>\n",
              "      <td>0.041416</td>\n",
              "      <td>0.541667</td>\n",
              "      <td>0.644388</td>\n",
              "      <td>0.811749</td>\n",
              "      <td>0.627205</td>\n",
              "    </tr>\n",
              "    <tr>\n",
              "      <th>3</th>\n",
              "      <td>0.076152</td>\n",
              "      <td>0.425000</td>\n",
              "      <td>0.620408</td>\n",
              "      <td>0.858478</td>\n",
              "      <td>0.671566</td>\n",
              "    </tr>\n",
              "    <tr>\n",
              "      <th>4</th>\n",
              "      <td>0.881764</td>\n",
              "      <td>0.508333</td>\n",
              "      <td>0.616327</td>\n",
              "      <td>0.475300</td>\n",
              "      <td>0.308658</td>\n",
              "    </tr>\n",
              "  </tbody>\n",
              "</table>\n",
              "</div>\n",
              "      <button class=\"colab-df-convert\" onclick=\"convertToInteractive('df-843a6ea8-257f-4310-86ee-6f0b3432aff3')\"\n",
              "              title=\"Convert this dataframe to an interactive table.\"\n",
              "              style=\"display:none;\">\n",
              "        \n",
              "  <svg xmlns=\"http://www.w3.org/2000/svg\" height=\"24px\"viewBox=\"0 0 24 24\"\n",
              "       width=\"24px\">\n",
              "    <path d=\"M0 0h24v24H0V0z\" fill=\"none\"/>\n",
              "    <path d=\"M18.56 5.44l.94 2.06.94-2.06 2.06-.94-2.06-.94-.94-2.06-.94 2.06-2.06.94zm-11 1L8.5 8.5l.94-2.06 2.06-.94-2.06-.94L8.5 2.5l-.94 2.06-2.06.94zm10 10l.94 2.06.94-2.06 2.06-.94-2.06-.94-.94-2.06-.94 2.06-2.06.94z\"/><path d=\"M17.41 7.96l-1.37-1.37c-.4-.4-.92-.59-1.43-.59-.52 0-1.04.2-1.43.59L10.3 9.45l-7.72 7.72c-.78.78-.78 2.05 0 2.83L4 21.41c.39.39.9.59 1.41.59.51 0 1.02-.2 1.41-.59l7.78-7.78 2.81-2.81c.8-.78.8-2.07 0-2.86zM5.41 20L4 18.59l7.72-7.72 1.47 1.35L5.41 20z\"/>\n",
              "  </svg>\n",
              "      </button>\n",
              "      \n",
              "  <style>\n",
              "    .colab-df-container {\n",
              "      display:flex;\n",
              "      flex-wrap:wrap;\n",
              "      gap: 12px;\n",
              "    }\n",
              "\n",
              "    .colab-df-convert {\n",
              "      background-color: #E8F0FE;\n",
              "      border: none;\n",
              "      border-radius: 50%;\n",
              "      cursor: pointer;\n",
              "      display: none;\n",
              "      fill: #1967D2;\n",
              "      height: 32px;\n",
              "      padding: 0 0 0 0;\n",
              "      width: 32px;\n",
              "    }\n",
              "\n",
              "    .colab-df-convert:hover {\n",
              "      background-color: #E2EBFA;\n",
              "      box-shadow: 0px 1px 2px rgba(60, 64, 67, 0.3), 0px 1px 3px 1px rgba(60, 64, 67, 0.15);\n",
              "      fill: #174EA6;\n",
              "    }\n",
              "\n",
              "    [theme=dark] .colab-df-convert {\n",
              "      background-color: #3B4455;\n",
              "      fill: #D2E3FC;\n",
              "    }\n",
              "\n",
              "    [theme=dark] .colab-df-convert:hover {\n",
              "      background-color: #434B5C;\n",
              "      box-shadow: 0px 1px 3px 1px rgba(0, 0, 0, 0.15);\n",
              "      filter: drop-shadow(0px 1px 2px rgba(0, 0, 0, 0.3));\n",
              "      fill: #FFFFFF;\n",
              "    }\n",
              "  </style>\n",
              "\n",
              "      <script>\n",
              "        const buttonEl =\n",
              "          document.querySelector('#df-843a6ea8-257f-4310-86ee-6f0b3432aff3 button.colab-df-convert');\n",
              "        buttonEl.style.display =\n",
              "          google.colab.kernel.accessAllowed ? 'block' : 'none';\n",
              "\n",
              "        async function convertToInteractive(key) {\n",
              "          const element = document.querySelector('#df-843a6ea8-257f-4310-86ee-6f0b3432aff3');\n",
              "          const dataTable =\n",
              "            await google.colab.kernel.invokeFunction('convertToInteractive',\n",
              "                                                     [key], {});\n",
              "          if (!dataTable) return;\n",
              "\n",
              "          const docLinkHtml = 'Like what you see? Visit the ' +\n",
              "            '<a target=\"_blank\" href=https://colab.research.google.com/notebooks/data_table.ipynb>data table notebook</a>'\n",
              "            + ' to learn more about interactive tables.';\n",
              "          element.innerHTML = '';\n",
              "          dataTable['output_type'] = 'display_data';\n",
              "          await google.colab.output.renderOutput(dataTable, element);\n",
              "          const docLink = document.createElement('div');\n",
              "          docLink.innerHTML = docLinkHtml;\n",
              "          element.appendChild(docLink);\n",
              "        }\n",
              "      </script>\n",
              "    </div>\n",
              "  </div>\n",
              "  "
            ]
          },
          "metadata": {},
          "execution_count": 42
        }
      ],
      "source": [
        "# Select numeric columns only\n",
        "numeric_cols = [cname for cname in df_fixed.columns if df_fixed[cname].dtype in ['int64', 'float64']]\n",
        "X = df_fixed[numeric_cols].copy()\n",
        "\n",
        "print(\"Shape of input data: {} and shape of target variable: {}\".format(X.shape, y.shape))\n",
        "\n",
        "X.head() # Show first 5 training example"
      ]
    },
    {
      "cell_type": "markdown",
      "source": [
        "Saya kemudian membagi data menjadi 5 fold. Banyaknya data training dan testing untuk setiap fold dapat dilihat di bawah ini."
      ],
      "metadata": {
        "id": "CdRCLdcZ2zim"
      }
    },
    {
      "cell_type": "code",
      "source": [
        "# Lets split the data into 5 folds.  \n",
        "# We will use this 'kf'(KFold splitting stratergy) object as input to cross_val_score() method\n",
        "kf =KFold(n_splits=5, shuffle=True, random_state=42)\n",
        "\n",
        "cnt = 1\n",
        "# split()  method generate indices to split data into training and test set.\n",
        "for train_index, test_index in kf.split(X, y):\n",
        "    print(f'Fold:{cnt}, Train set: {len(train_index)}, Test set:{len(test_index)}')\n",
        "    cnt += 1"
      ],
      "metadata": {
        "colab": {
          "base_uri": "https://localhost:8080/"
        },
        "id": "AFjgiq-ZNaD_",
        "outputId": "a45306dc-3e81-4465-9e47-95ca601f4f22"
      },
      "execution_count": 43,
      "outputs": [
        {
          "output_type": "stream",
          "name": "stdout",
          "text": [
            "Fold:1, Train set: 1600, Test set:400\n",
            "Fold:2, Train set: 1600, Test set:400\n",
            "Fold:3, Train set: 1600, Test set:400\n",
            "Fold:4, Train set: 1600, Test set:400\n",
            "Fold:5, Train set: 1600, Test set:400\n"
          ]
        }
      ]
    },
    {
      "cell_type": "markdown",
      "metadata": {
        "id": "9inMOAFxW3Uh"
      },
      "source": [
        "### [19] Decision Tree"
      ]
    },
    {
      "cell_type": "markdown",
      "source": [
        "Scoring yang digunakan adalah accuracy untuk mengukur kinerja model dalam hal mengukur rasio jumlah true positive dan true negatif dari semua prediksi yang dibuat."
      ],
      "metadata": {
        "id": "VTVrk1r-3Xjo"
      }
    },
    {
      "cell_type": "markdown",
      "metadata": {
        "id": "1mm499viX-M0"
      },
      "source": [
        "7\\. [4] Implementasikan model Decision Tree tanpa konfigurasi parameter apapun, serta berikan hasil evaluasinya!"
      ]
    },
    {
      "cell_type": "code",
      "execution_count": 44,
      "metadata": {
        "id": "yrTlpXM1iPjm",
        "colab": {
          "base_uri": "https://localhost:8080/"
        },
        "outputId": "875edf4d-2f43-41e2-9eab-07a44f327fda"
      },
      "outputs": [
        {
          "output_type": "stream",
          "name": "stdout",
          "text": [
            "Scores for each fold: [0.83   0.7775 0.825  0.825  0.7775]\n",
            "Average score: 0.81\n"
          ]
        }
      ],
      "source": [
        "score = cross_val_score(DecisionTreeClassifier(), X, y, cv=kf, scoring=\"accuracy\")\n",
        "print(f'Scores for each fold: {score}')\n",
        "print(f'Average score: {\"{:.2f}\".format(score.mean())}')"
      ]
    },
    {
      "cell_type": "markdown",
      "metadata": {
        "id": "xv7Fru2ebkZb"
      },
      "source": [
        "8\\. [4] Implementasikan model Decision Tree dengan memberikan parameter nilai `min_samples_leaf=50`; serta berikan hasil evaluasinya!"
      ]
    },
    {
      "cell_type": "code",
      "execution_count": 45,
      "metadata": {
        "id": "7Ll1nIE2iP6A",
        "colab": {
          "base_uri": "https://localhost:8080/"
        },
        "outputId": "72ff9900-41c7-4cfc-ff22-5a491bf16742"
      },
      "outputs": [
        {
          "output_type": "stream",
          "name": "stdout",
          "text": [
            "Scores for each fold: [0.745 0.78  0.76  0.775 0.74 ]\n",
            "Average score: 0.76\n"
          ]
        }
      ],
      "source": [
        "score = cross_val_score(DecisionTreeClassifier(min_samples_leaf=50), X, y, cv=kf, scoring=\"accuracy\")\n",
        "print(f'Scores for each fold: {score}')\n",
        "print(f'Average score: {\"{:.2f}\".format(score.mean())}')"
      ]
    },
    {
      "cell_type": "markdown",
      "metadata": {
        "id": "q90rtM8MdnGU"
      },
      "source": [
        "9\\. [6] Bandingkan model yang dibuat pada soal nomor 7 dan nomor 8, manakah yang lebih baik? Berikan analisis Anda terkait bagaimana hubungan perubahan parameter tersebut dengan kualitas hasil klasifikasi!"
      ]
    },
    {
      "cell_type": "markdown",
      "metadata": {
        "id": "oikaDKV0dnGV"
      },
      "source": [
        "> Jawaban: \n",
        "\n",
        "> Yang lebih baik adalah model Decision Tree tanpa menggunakan parameter. Hal tersebut karena pada nomor 8, kita mengeset min_sample_leaf sebanyak 50 yang berarti node pada tree setidaknya memiliki 50 samples. Hal tersebut rupanya tidak cocok dan malah memperburuk kinerja model yang menghasilkan average score yang menurun."
      ]
    },
    {
      "cell_type": "markdown",
      "metadata": {
        "id": "H3811o_r3W2T"
      },
      "source": [
        "10\\. [5] Buatlah model yang memiliki performa yang lebih bagus dibanding kedua model sebelumnya! Anda dibebaskan untuk melakukan eksplorasi dalam mengkonfigurasi parameter yang dipakai."
      ]
    },
    {
      "cell_type": "markdown",
      "source": [
        "Untuk menghasilkan model yang performanya lebih bagus, saya mengguakan Hyperparameter Tuning. Hyperparameter tuning dapat digunakan ntuk mendapatkan hasil evaluasi yang terbaik untuk suatu model. Saya mencoba berbagai kombinasi hyperparameter yang diinginkan, seperti criterion, min_samples_split, max_depth, dan min_samples_leaf. Untuk mempermudah mencari hyperparameter yang tepat, saya dapat menggunakan modul GridSearchCV dari library Scikit-Learn."
      ],
      "metadata": {
        "id": "d9izP_Rn7nxU"
      }
    },
    {
      "cell_type": "code",
      "source": [
        "param_grid = {'criterion': ['gini', 'entropy'],\n",
        "               'min_samples_split': [7, 10, 20],\n",
        "               'max_depth' : [5, 8, 10, 12, None],\n",
        "              'min_samples_leaf': [1, 4, 5, 10, 15]}\n",
        "\n",
        "dt = DecisionTreeClassifier()\n",
        "\n",
        "clf = GridSearchCV(estimator= dt, \n",
        "                   param_grid=param_grid, cv= 5)\n",
        "\n",
        "clf.fit(X, y)\n",
        "\n",
        "clf.best_params_"
      ],
      "metadata": {
        "colab": {
          "base_uri": "https://localhost:8080/"
        },
        "id": "eUrECmSoDHAn",
        "outputId": "983e5c76-ba26-4ecc-e6ed-d9eb83709901"
      },
      "execution_count": 46,
      "outputs": [
        {
          "output_type": "execute_result",
          "data": {
            "text/plain": [
              "{'criterion': 'entropy',\n",
              " 'max_depth': 12,\n",
              " 'min_samples_leaf': 1,\n",
              " 'min_samples_split': 7}"
            ]
          },
          "metadata": {},
          "execution_count": 46
        }
      ]
    },
    {
      "cell_type": "code",
      "execution_count": 47,
      "metadata": {
        "id": "fAjKvo8yiRQB",
        "colab": {
          "base_uri": "https://localhost:8080/"
        },
        "outputId": "16ab7500-09c6-4ebb-dd70-53ad4bd99624"
      },
      "outputs": [
        {
          "output_type": "stream",
          "name": "stdout",
          "text": [
            "Scores for each fold: [0.84   0.835  0.8425 0.83   0.825 ]\n",
            "Average score: 0.83\n"
          ]
        }
      ],
      "source": [
        "score = cross_val_score(DecisionTreeClassifier(criterion='entropy', max_depth=12, min_samples_leaf=1, min_samples_split=7), X, y, cv=kf, scoring=\"accuracy\")\n",
        "print(f'Scores for each fold: {score}')\n",
        "print(f'Average score: {\"{:.2f}\".format(score.mean())}')"
      ]
    },
    {
      "cell_type": "markdown",
      "metadata": {
        "id": "4Qzu0GmLXLF8"
      },
      "source": [
        "### [18] Random Forest"
      ]
    },
    {
      "cell_type": "markdown",
      "source": [
        "Scoring yang digunakan adalah accuracy untuk mengukur kinerja model dalam hal mengukur rasio jumlah true positive dan true negatif dari semua prediksi yang dibuat."
      ],
      "metadata": {
        "id": "6DK5iYGz8U3-"
      }
    },
    {
      "cell_type": "markdown",
      "metadata": {
        "id": "XX-Fw5IKuGW1"
      },
      "source": [
        "11\\. [4] Implementasikan model Random Forest tanpa konfigurasi parameter apapun, serta berikan hasil evaluasinya!"
      ]
    },
    {
      "cell_type": "code",
      "execution_count": 48,
      "metadata": {
        "id": "7bdchBYiiR36",
        "colab": {
          "base_uri": "https://localhost:8080/"
        },
        "outputId": "dc647c81-0b20-446e-a99d-4e764785de26"
      },
      "outputs": [
        {
          "output_type": "stream",
          "name": "stdout",
          "text": [
            "Scores for each fold are: [0.875  0.875  0.8725 0.875  0.8675]\n",
            "Average score: 0.87\n"
          ]
        }
      ],
      "source": [
        "score = cross_val_score(RandomForestClassifier(), X, y, cv= kf, scoring=\"accuracy\")\n",
        "print(f'Scores for each fold are: {score}')\n",
        "print(f'Average score: {\"{:.2f}\".format(score.mean())}')"
      ]
    },
    {
      "cell_type": "markdown",
      "metadata": {
        "id": "xtJr-aswuQpO"
      },
      "source": [
        "12\\. [8] Implementasikan model Random Forest dengan parameter yang didapatkan dari hasil Hyperparameter Tuning, serta berikan hasil evaluasinya!"
      ]
    },
    {
      "cell_type": "code",
      "execution_count": 49,
      "metadata": {
        "id": "5HFjrTD2iSnU",
        "colab": {
          "base_uri": "https://localhost:8080/"
        },
        "outputId": "5e709141-d94a-40a4-81b8-fa871b25c0d2"
      },
      "outputs": [
        {
          "output_type": "execute_result",
          "data": {
            "text/plain": [
              "{'criterion': 'entropy',\n",
              " 'max_depth': 12,\n",
              " 'min_samples_split': 10,\n",
              " 'n_estimators': 400}"
            ]
          },
          "metadata": {},
          "execution_count": 49
        }
      ],
      "source": [
        "param_grid = {'criterion': ['gini', 'entropy'],\n",
        "               'min_samples_split': [10, 20, 50],\n",
        "               'max_depth' : [5, 10, 12],\n",
        "              'n_estimators': [100, 400]}\n",
        "\n",
        "rf = RandomForestClassifier()\n",
        "\n",
        "clf = GridSearchCV(estimator= rf, \n",
        "                   param_grid=param_grid, cv= 5)\n",
        "\n",
        "clf.fit(X, y)\n",
        "\n",
        "clf.best_params_"
      ]
    },
    {
      "cell_type": "code",
      "source": [
        "score = cross_val_score(RandomForestClassifier(criterion= 'entropy',max_depth= 12, min_samples_split= 10, n_estimators= 400), X, y, cv= kf, scoring=\"accuracy\")\n",
        "print(f'Scores for each fold are: {score}')\n",
        "print(f'Average score: {\"{:.2f}\".format(score.mean())}')"
      ],
      "metadata": {
        "colab": {
          "base_uri": "https://localhost:8080/"
        },
        "id": "bV696-IeKHe5",
        "outputId": "1d914d49-563d-4258-c030-7baa5bfc6a55"
      },
      "execution_count": 50,
      "outputs": [
        {
          "output_type": "stream",
          "name": "stdout",
          "text": [
            "Scores for each fold are: [0.8775 0.8825 0.8775 0.87   0.8875]\n",
            "Average score: 0.88\n"
          ]
        }
      ]
    },
    {
      "cell_type": "markdown",
      "metadata": {
        "id": "m9q2bUyML9IO"
      },
      "source": [
        "13\\. [6] Bandingkan model yang dibuat pada soal nomor 11 dan nomor 12, manakah yang lebih baik? Berikan analisis Anda terkait bagaimana hubungan perubahan parameter tersebut dengan kualitas hasil klasifikasi!"
      ]
    },
    {
      "cell_type": "markdown",
      "metadata": {
        "id": "-Z8ISug7fR7X"
      },
      "source": [
        "> Jawaban: \n",
        "\n",
        "> Yang lebih baik adalah nomor 12 setelah yaitu dengan menggunakan pemakaian parameter dari hasil hyperparameter tuning melalui GridSearchCV. GridSearchCV akan mencoba semua kombinasi nilai yang diteruskan dalam dictionary param_grid dan mengevaluasi model untuk setiap kombinasinya menggunakan metode Cross-Validation. Kemudian, didapatkan akurasi/loss untuk setiap kombinasi hyperparameter. Dengan demikian kita bisa mendapatkan hyperparameter yang terbaik. Hal ini tentunya mengubah kualitas hasil klasifikasi. Namun, secara keseluruhan model yang dibuat pada nomor 11 dan 12 average scorenya tidak jauh beda (hanya beda 0.01).\n"
      ]
    },
    {
      "cell_type": "markdown",
      "metadata": {
        "id": "GYjdBnEGXLSt"
      },
      "source": [
        "### [16] Naive Bayes"
      ]
    },
    {
      "cell_type": "markdown",
      "source": [
        "Scoring yang digunakan adalah accuracy untuk mengukur kinerja model dalam hal mengukur rasio jumlah true positive dan true negatif dari semua prediksi yang dibuat."
      ],
      "metadata": {
        "id": "ODpcB1-8A5u_"
      }
    },
    {
      "cell_type": "markdown",
      "metadata": {
        "id": "Ye29g1MxZC8X"
      },
      "source": [
        "14\\. [4] Implementasikan model dari salah satu variasi Naive Bayes; serta berikan hasil evaluasinya!"
      ]
    },
    {
      "cell_type": "code",
      "execution_count": 51,
      "metadata": {
        "id": "ekaf-eMsiTZ_",
        "colab": {
          "base_uri": "https://localhost:8080/"
        },
        "outputId": "c2f19ed8-9929-4d46-f37b-73aa1d29389f"
      },
      "outputs": [
        {
          "output_type": "stream",
          "name": "stdout",
          "text": [
            "Scores for each fold are: [0.785  0.7925 0.75   0.7625 0.785 ]\n",
            "Average score: 0.78\n"
          ]
        }
      ],
      "source": [
        "from sklearn.naive_bayes import GaussianNB\n",
        "# Mengaktifkan/memanggil/membuat fungsi klasifikasi Naive Bayes\n",
        "modelnb = GaussianNB()\n",
        "score = cross_val_score(modelnb, X, y, cv=kf, scoring=\"accuracy\")\n",
        "print(f'Scores for each fold are: {score}')\n",
        "print(f'Average score: {\"{:.2f}\".format(score.mean())}')"
      ]
    },
    {
      "cell_type": "markdown",
      "metadata": {
        "id": "xsWO4hMrjuAe"
      },
      "source": [
        "15\\. [6] Apa alasan dan pertimbangan Anda dalam memilih variasi tersebut dibandingkan variasi Naive Bayes lainnya? "
      ]
    },
    {
      "cell_type": "markdown",
      "metadata": {
        "id": "ouWhbqaHiZd4"
      },
      "source": [
        "> Jawaban:\n",
        "\n",
        "> Saya menggunakan Gaussian Naive Bayes Model karena data dari feature selection bersifat numerik dan mengikuti distribusi yang cenderung seperti distribusi gausian atau distribusi normal. Terdapat empat variasi naive bayes lainnya, yaitu Multinomial Naive Bayes (untuk data yang digunakan memiliki distribusi multinomial sederhana), Complement (untuk data yang digunakan memiliki distribusi multinomial sederhana yang bersifat imbalanced), Bernoulli Naive Bayes (untuk data yang digunakan memiliki distribusi multinomial sederhana dengan bentuk yang diskret dan terdistribusi dalam bentuk binary ), dan Categorical Naive Bayes (untuk tipe data yang nilainya terdistribusi secara kategorikal). Dari variasi naive bayes yang ada, saya merasa Gaussian Naive Bayes merupakan yang paling cocok dengan dataset yang saya gunakan sekarang."
      ]
    },
    {
      "cell_type": "markdown",
      "metadata": {
        "id": "VsSeCbX4F47y"
      },
      "source": [
        "16\\. [6] Masing-masing variasi Naive Bayes dibuat khusus untuk menyesuaikan tipe data tertentu pada data yang digunakan. Jika data yang ada memiliki tipe fitur yang bervariasi (numerik, biner, kategorik, dll), apakah kita bisa menggunakan salah satu variasi algoritma saja? Bagaimana strategi Anda dalam menganani kasus tersebut?"
      ]
    },
    {
      "cell_type": "markdown",
      "metadata": {
        "id": "Ke7dIWhXGctn"
      },
      "source": [
        "> Jawaban:\n",
        "\n",
        "> Kasus di atas membutuhkan penanganan terlebih dahulu sebelum langsung menggunakan satu variasi algoritma saja dalam Naive Bayes. Untuk data yang bersifat categorical, kita dapat melakukan encoding terlebih dahulu. Kemudian, kita dapat memperkirakan 𝑝(𝑥|𝑦) dengan algoritma yang dapat menampung categorical value, seperti bernouli atau multinomial. Sementara itu, atribut yang bersifat numerical diolah dengan algoritma lain seperti gaussian (perlu diperhatikan juga ciri-ciri lain seperti bentuk distribusinya dll ketika memilih algoritma naive bayes). Terakhir, kalikan conditional probability tersebut bersama-sama dalam prediksi akhir karena mereka juga bersifat saling independent"
      ]
    },
    {
      "cell_type": "markdown",
      "metadata": {
        "id": "fgcOGrgNXLOb"
      },
      "source": [
        "### [12] K-nearest Neighbors"
      ]
    },
    {
      "cell_type": "markdown",
      "source": [
        "Scoring yang digunakan adalah accuracy untuk mengukur kinerja model dalam hal mengukur rasio jumlah true positive dan true negatif dari semua prediksi yang dibuat."
      ],
      "metadata": {
        "id": "vjDKYXz1JGRa"
      }
    },
    {
      "cell_type": "markdown",
      "metadata": {
        "id": "t8rTVurcyq6H"
      },
      "source": [
        "17\\. [4] Implementasikan model KNN dengan memberikan parameter nilai `n_neighbors=3`; serta berikan hasil evaluasinya!"
      ]
    },
    {
      "cell_type": "code",
      "execution_count": 52,
      "metadata": {
        "id": "iBgt6hlliUKa",
        "colab": {
          "base_uri": "https://localhost:8080/"
        },
        "outputId": "0028bed6-dbe8-416d-be75-efb620ff77cd"
      },
      "outputs": [
        {
          "output_type": "stream",
          "name": "stdout",
          "text": [
            "Scores for each fold are: [0.7875 0.81   0.7725 0.8125 0.7925]\n",
            "Average score: 0.80\n"
          ]
        }
      ],
      "source": [
        "KNN = KNeighborsClassifier(n_neighbors=3)\n",
        "score = cross_val_score(KNN, X, y, cv=kf, scoring=\"accuracy\")\n",
        "print(f'Scores for each fold are: {score}')\n",
        "print(f'Average score: {\"{:.2f}\".format(score.mean())}')"
      ]
    },
    {
      "cell_type": "markdown",
      "metadata": {
        "id": "Uqj3bKgDzP71"
      },
      "source": [
        "18\\. [8] Implementasikan model KNN dengan parameter yang didapatkan dari hasil Hyperparameter Tuning, serta berikan hasil evaluasinya!"
      ]
    },
    {
      "cell_type": "code",
      "execution_count": 53,
      "metadata": {
        "id": "XnxRKOjJiUga",
        "colab": {
          "base_uri": "https://localhost:8080/"
        },
        "outputId": "ccc1f855-92fc-4167-e96a-b169aa8a1b48"
      },
      "outputs": [
        {
          "output_type": "stream",
          "name": "stdout",
          "text": [
            "##### Tuning hyper-parameters model KNN #####\n",
            "\n",
            "Fitting 5 folds for each of 30 candidates, totalling 150 fits\n",
            "[CV] END ....................leaf_size=1, n_neighbors=1, p=1; total time=   0.0s\n",
            "[CV] END ....................leaf_size=1, n_neighbors=1, p=1; total time=   0.0s\n",
            "[CV] END ....................leaf_size=1, n_neighbors=1, p=1; total time=   0.0s\n",
            "[CV] END ....................leaf_size=1, n_neighbors=1, p=1; total time=   0.0s\n",
            "[CV] END ....................leaf_size=1, n_neighbors=1, p=1; total time=   0.0s\n",
            "[CV] END ....................leaf_size=1, n_neighbors=1, p=2; total time=   0.0s\n",
            "[CV] END ....................leaf_size=1, n_neighbors=1, p=2; total time=   0.0s\n",
            "[CV] END ....................leaf_size=1, n_neighbors=1, p=2; total time=   0.0s\n",
            "[CV] END ....................leaf_size=1, n_neighbors=1, p=2; total time=   0.0s\n",
            "[CV] END ....................leaf_size=1, n_neighbors=1, p=2; total time=   0.0s\n",
            "[CV] END ....................leaf_size=1, n_neighbors=2, p=1; total time=   0.0s\n",
            "[CV] END ....................leaf_size=1, n_neighbors=2, p=1; total time=   0.0s\n",
            "[CV] END ....................leaf_size=1, n_neighbors=2, p=1; total time=   0.0s\n",
            "[CV] END ....................leaf_size=1, n_neighbors=2, p=1; total time=   0.0s\n",
            "[CV] END ....................leaf_size=1, n_neighbors=2, p=1; total time=   0.0s\n",
            "[CV] END ....................leaf_size=1, n_neighbors=2, p=2; total time=   0.0s\n",
            "[CV] END ....................leaf_size=1, n_neighbors=2, p=2; total time=   0.0s\n",
            "[CV] END ....................leaf_size=1, n_neighbors=2, p=2; total time=   0.0s\n",
            "[CV] END ....................leaf_size=1, n_neighbors=2, p=2; total time=   0.0s\n",
            "[CV] END ....................leaf_size=1, n_neighbors=2, p=2; total time=   0.0s\n",
            "[CV] END ....................leaf_size=1, n_neighbors=3, p=1; total time=   0.0s\n",
            "[CV] END ....................leaf_size=1, n_neighbors=3, p=1; total time=   0.1s\n",
            "[CV] END ....................leaf_size=1, n_neighbors=3, p=1; total time=   0.0s\n",
            "[CV] END ....................leaf_size=1, n_neighbors=3, p=1; total time=   0.0s\n",
            "[CV] END ....................leaf_size=1, n_neighbors=3, p=1; total time=   0.0s\n",
            "[CV] END ....................leaf_size=1, n_neighbors=3, p=2; total time=   0.0s\n",
            "[CV] END ....................leaf_size=1, n_neighbors=3, p=2; total time=   0.0s\n",
            "[CV] END ....................leaf_size=1, n_neighbors=3, p=2; total time=   0.0s\n",
            "[CV] END ....................leaf_size=1, n_neighbors=3, p=2; total time=   0.0s\n",
            "[CV] END ....................leaf_size=1, n_neighbors=3, p=2; total time=   0.0s\n",
            "[CV] END ....................leaf_size=1, n_neighbors=4, p=1; total time=   0.0s\n",
            "[CV] END ....................leaf_size=1, n_neighbors=4, p=1; total time=   0.0s\n",
            "[CV] END ....................leaf_size=1, n_neighbors=4, p=1; total time=   0.0s\n",
            "[CV] END ....................leaf_size=1, n_neighbors=4, p=1; total time=   0.0s\n",
            "[CV] END ....................leaf_size=1, n_neighbors=4, p=1; total time=   0.0s\n",
            "[CV] END ....................leaf_size=1, n_neighbors=4, p=2; total time=   0.1s\n",
            "[CV] END ....................leaf_size=1, n_neighbors=4, p=2; total time=   0.0s\n",
            "[CV] END ....................leaf_size=1, n_neighbors=4, p=2; total time=   0.0s\n",
            "[CV] END ....................leaf_size=1, n_neighbors=4, p=2; total time=   0.0s\n",
            "[CV] END ....................leaf_size=1, n_neighbors=4, p=2; total time=   0.0s\n",
            "[CV] END ....................leaf_size=1, n_neighbors=5, p=1; total time=   0.0s\n",
            "[CV] END ....................leaf_size=1, n_neighbors=5, p=1; total time=   0.0s\n",
            "[CV] END ....................leaf_size=1, n_neighbors=5, p=1; total time=   0.0s\n",
            "[CV] END ....................leaf_size=1, n_neighbors=5, p=1; total time=   0.0s\n",
            "[CV] END ....................leaf_size=1, n_neighbors=5, p=1; total time=   0.0s\n",
            "[CV] END ....................leaf_size=1, n_neighbors=5, p=2; total time=   0.0s\n",
            "[CV] END ....................leaf_size=1, n_neighbors=5, p=2; total time=   0.0s\n",
            "[CV] END ....................leaf_size=1, n_neighbors=5, p=2; total time=   0.0s\n",
            "[CV] END ....................leaf_size=1, n_neighbors=5, p=2; total time=   0.0s\n",
            "[CV] END ....................leaf_size=1, n_neighbors=5, p=2; total time=   0.0s\n",
            "[CV] END ....................leaf_size=5, n_neighbors=1, p=1; total time=   0.0s\n",
            "[CV] END ....................leaf_size=5, n_neighbors=1, p=1; total time=   0.0s\n",
            "[CV] END ....................leaf_size=5, n_neighbors=1, p=1; total time=   0.0s\n",
            "[CV] END ....................leaf_size=5, n_neighbors=1, p=1; total time=   0.0s\n",
            "[CV] END ....................leaf_size=5, n_neighbors=1, p=1; total time=   0.0s\n",
            "[CV] END ....................leaf_size=5, n_neighbors=1, p=2; total time=   0.0s\n",
            "[CV] END ....................leaf_size=5, n_neighbors=1, p=2; total time=   0.0s\n",
            "[CV] END ....................leaf_size=5, n_neighbors=1, p=2; total time=   0.0s\n",
            "[CV] END ....................leaf_size=5, n_neighbors=1, p=2; total time=   0.0s\n",
            "[CV] END ....................leaf_size=5, n_neighbors=1, p=2; total time=   0.0s\n",
            "[CV] END ....................leaf_size=5, n_neighbors=2, p=1; total time=   0.0s\n",
            "[CV] END ....................leaf_size=5, n_neighbors=2, p=1; total time=   0.0s\n",
            "[CV] END ....................leaf_size=5, n_neighbors=2, p=1; total time=   0.0s\n",
            "[CV] END ....................leaf_size=5, n_neighbors=2, p=1; total time=   0.0s\n",
            "[CV] END ....................leaf_size=5, n_neighbors=2, p=1; total time=   0.0s\n",
            "[CV] END ....................leaf_size=5, n_neighbors=2, p=2; total time=   0.0s\n",
            "[CV] END ....................leaf_size=5, n_neighbors=2, p=2; total time=   0.0s\n",
            "[CV] END ....................leaf_size=5, n_neighbors=2, p=2; total time=   0.0s\n",
            "[CV] END ....................leaf_size=5, n_neighbors=2, p=2; total time=   0.0s\n",
            "[CV] END ....................leaf_size=5, n_neighbors=2, p=2; total time=   0.0s\n",
            "[CV] END ....................leaf_size=5, n_neighbors=3, p=1; total time=   0.0s\n",
            "[CV] END ....................leaf_size=5, n_neighbors=3, p=1; total time=   0.0s\n",
            "[CV] END ....................leaf_size=5, n_neighbors=3, p=1; total time=   0.0s\n",
            "[CV] END ....................leaf_size=5, n_neighbors=3, p=1; total time=   0.0s\n",
            "[CV] END ....................leaf_size=5, n_neighbors=3, p=1; total time=   0.0s\n",
            "[CV] END ....................leaf_size=5, n_neighbors=3, p=2; total time=   0.0s\n",
            "[CV] END ....................leaf_size=5, n_neighbors=3, p=2; total time=   0.0s\n",
            "[CV] END ....................leaf_size=5, n_neighbors=3, p=2; total time=   0.0s\n",
            "[CV] END ....................leaf_size=5, n_neighbors=3, p=2; total time=   0.0s\n",
            "[CV] END ....................leaf_size=5, n_neighbors=3, p=2; total time=   0.0s\n",
            "[CV] END ....................leaf_size=5, n_neighbors=4, p=1; total time=   0.0s\n",
            "[CV] END ....................leaf_size=5, n_neighbors=4, p=1; total time=   0.0s\n",
            "[CV] END ....................leaf_size=5, n_neighbors=4, p=1; total time=   0.0s\n",
            "[CV] END ....................leaf_size=5, n_neighbors=4, p=1; total time=   0.0s\n",
            "[CV] END ....................leaf_size=5, n_neighbors=4, p=1; total time=   0.0s\n",
            "[CV] END ....................leaf_size=5, n_neighbors=4, p=2; total time=   0.0s\n",
            "[CV] END ....................leaf_size=5, n_neighbors=4, p=2; total time=   0.0s\n",
            "[CV] END ....................leaf_size=5, n_neighbors=4, p=2; total time=   0.0s\n",
            "[CV] END ....................leaf_size=5, n_neighbors=4, p=2; total time=   0.0s\n",
            "[CV] END ....................leaf_size=5, n_neighbors=4, p=2; total time=   0.0s\n",
            "[CV] END ....................leaf_size=5, n_neighbors=5, p=1; total time=   0.0s\n",
            "[CV] END ....................leaf_size=5, n_neighbors=5, p=1; total time=   0.0s\n",
            "[CV] END ....................leaf_size=5, n_neighbors=5, p=1; total time=   0.0s\n",
            "[CV] END ....................leaf_size=5, n_neighbors=5, p=1; total time=   0.0s\n",
            "[CV] END ....................leaf_size=5, n_neighbors=5, p=1; total time=   0.0s\n",
            "[CV] END ....................leaf_size=5, n_neighbors=5, p=2; total time=   0.0s\n",
            "[CV] END ....................leaf_size=5, n_neighbors=5, p=2; total time=   0.0s\n",
            "[CV] END ....................leaf_size=5, n_neighbors=5, p=2; total time=   0.0s\n",
            "[CV] END ....................leaf_size=5, n_neighbors=5, p=2; total time=   0.0s\n",
            "[CV] END ....................leaf_size=5, n_neighbors=5, p=2; total time=   0.0s\n",
            "[CV] END ...................leaf_size=10, n_neighbors=1, p=1; total time=   0.0s\n",
            "[CV] END ...................leaf_size=10, n_neighbors=1, p=1; total time=   0.0s\n",
            "[CV] END ...................leaf_size=10, n_neighbors=1, p=1; total time=   0.0s\n",
            "[CV] END ...................leaf_size=10, n_neighbors=1, p=1; total time=   0.0s\n",
            "[CV] END ...................leaf_size=10, n_neighbors=1, p=1; total time=   0.0s\n",
            "[CV] END ...................leaf_size=10, n_neighbors=1, p=2; total time=   0.0s\n",
            "[CV] END ...................leaf_size=10, n_neighbors=1, p=2; total time=   0.0s\n",
            "[CV] END ...................leaf_size=10, n_neighbors=1, p=2; total time=   0.0s\n",
            "[CV] END ...................leaf_size=10, n_neighbors=1, p=2; total time=   0.0s\n",
            "[CV] END ...................leaf_size=10, n_neighbors=1, p=2; total time=   0.0s\n",
            "[CV] END ...................leaf_size=10, n_neighbors=2, p=1; total time=   0.0s\n",
            "[CV] END ...................leaf_size=10, n_neighbors=2, p=1; total time=   0.0s\n",
            "[CV] END ...................leaf_size=10, n_neighbors=2, p=1; total time=   0.0s\n",
            "[CV] END ...................leaf_size=10, n_neighbors=2, p=1; total time=   0.0s\n",
            "[CV] END ...................leaf_size=10, n_neighbors=2, p=1; total time=   0.0s\n",
            "[CV] END ...................leaf_size=10, n_neighbors=2, p=2; total time=   0.0s\n",
            "[CV] END ...................leaf_size=10, n_neighbors=2, p=2; total time=   0.0s\n",
            "[CV] END ...................leaf_size=10, n_neighbors=2, p=2; total time=   0.0s\n",
            "[CV] END ...................leaf_size=10, n_neighbors=2, p=2; total time=   0.0s\n",
            "[CV] END ...................leaf_size=10, n_neighbors=2, p=2; total time=   0.0s\n",
            "[CV] END ...................leaf_size=10, n_neighbors=3, p=1; total time=   0.0s\n",
            "[CV] END ...................leaf_size=10, n_neighbors=3, p=1; total time=   0.0s\n",
            "[CV] END ...................leaf_size=10, n_neighbors=3, p=1; total time=   0.0s\n",
            "[CV] END ...................leaf_size=10, n_neighbors=3, p=1; total time=   0.0s\n",
            "[CV] END ...................leaf_size=10, n_neighbors=3, p=1; total time=   0.0s\n",
            "[CV] END ...................leaf_size=10, n_neighbors=3, p=2; total time=   0.0s\n",
            "[CV] END ...................leaf_size=10, n_neighbors=3, p=2; total time=   0.0s\n",
            "[CV] END ...................leaf_size=10, n_neighbors=3, p=2; total time=   0.0s\n",
            "[CV] END ...................leaf_size=10, n_neighbors=3, p=2; total time=   0.0s\n",
            "[CV] END ...................leaf_size=10, n_neighbors=3, p=2; total time=   0.0s\n",
            "[CV] END ...................leaf_size=10, n_neighbors=4, p=1; total time=   0.0s\n",
            "[CV] END ...................leaf_size=10, n_neighbors=4, p=1; total time=   0.0s\n",
            "[CV] END ...................leaf_size=10, n_neighbors=4, p=1; total time=   0.0s\n",
            "[CV] END ...................leaf_size=10, n_neighbors=4, p=1; total time=   0.0s\n",
            "[CV] END ...................leaf_size=10, n_neighbors=4, p=1; total time=   0.0s\n",
            "[CV] END ...................leaf_size=10, n_neighbors=4, p=2; total time=   0.0s\n",
            "[CV] END ...................leaf_size=10, n_neighbors=4, p=2; total time=   0.0s\n",
            "[CV] END ...................leaf_size=10, n_neighbors=4, p=2; total time=   0.0s\n",
            "[CV] END ...................leaf_size=10, n_neighbors=4, p=2; total time=   0.0s\n",
            "[CV] END ...................leaf_size=10, n_neighbors=4, p=2; total time=   0.0s\n",
            "[CV] END ...................leaf_size=10, n_neighbors=5, p=1; total time=   0.0s\n",
            "[CV] END ...................leaf_size=10, n_neighbors=5, p=1; total time=   0.0s\n",
            "[CV] END ...................leaf_size=10, n_neighbors=5, p=1; total time=   0.0s\n",
            "[CV] END ...................leaf_size=10, n_neighbors=5, p=1; total time=   0.0s\n",
            "[CV] END ...................leaf_size=10, n_neighbors=5, p=1; total time=   0.0s\n",
            "[CV] END ...................leaf_size=10, n_neighbors=5, p=2; total time=   0.0s\n",
            "[CV] END ...................leaf_size=10, n_neighbors=5, p=2; total time=   0.0s\n",
            "[CV] END ...................leaf_size=10, n_neighbors=5, p=2; total time=   0.0s\n",
            "[CV] END ...................leaf_size=10, n_neighbors=5, p=2; total time=   0.0s\n",
            "[CV] END ...................leaf_size=10, n_neighbors=5, p=2; total time=   0.0s\n",
            "Best parameters set found on development set:\n",
            "\n",
            "{'leaf_size': 1, 'n_neighbors': 5, 'p': 1}\n"
          ]
        }
      ],
      "source": [
        "\n",
        "model = KNeighborsClassifier()\n",
        "\n",
        "# parameter yang akan di tunning\n",
        "tunned_params = [\n",
        "  { \n",
        "    'n_neighbors': [1,2,3,4,5], 'leaf_size': [1,5,10], 'p': [1,2]\n",
        "  } \n",
        "]\n",
        "\n",
        "print(\"##### Tuning hyper-parameters model KNN #####\")\n",
        "print()\n",
        "\n",
        "clfKNN = GridSearchCV(model, \n",
        "                    tunned_params,\n",
        "                     scoring=\"accuracy\",\n",
        "                    cv=5,\n",
        "                   verbose = 2\n",
        "                    )\n",
        "\n",
        "clfKNN.fit(X, y)\n",
        "\n",
        "print(\"Best parameters set found on development set:\")\n",
        "print()\n",
        "print(clfKNN.best_params_)"
      ]
    },
    {
      "cell_type": "code",
      "source": [
        "KNN = KNeighborsClassifier(n_neighbors=5, leaf_size=1, p=1)\n",
        "score = cross_val_score(KNN, X, y, cv=kf, scoring=\"accuracy\")\n",
        "print(f'Scores for each fold are: {score}')\n",
        "print(f'Average score: {\"{:.2f}\".format(score.mean())}')"
      ],
      "metadata": {
        "colab": {
          "base_uri": "https://localhost:8080/"
        },
        "id": "OLAve-9QNQGU",
        "outputId": "9819b651-66ba-4834-bf67-16e69ea5c469"
      },
      "execution_count": 54,
      "outputs": [
        {
          "output_type": "stream",
          "name": "stdout",
          "text": [
            "Scores for each fold are: [0.795  0.8075 0.8    0.8275 0.8075]\n",
            "Average score: 0.81\n"
          ]
        }
      ]
    },
    {
      "cell_type": "markdown",
      "metadata": {
        "id": "0bJvYH9F38uw"
      },
      "source": [
        "### [7] Analisis"
      ]
    },
    {
      "cell_type": "markdown",
      "metadata": {
        "id": "ER7H289m3-Cv"
      },
      "source": [
        "19\\. [7] Dari keempat variasi model (Decision Tree, Random Forest, Naive Bayes, dan KNN) yang sudah Anda coba, manakah model yang memiliki performa terbaik? Berikan analisis Anda!"
      ]
    },
    {
      "cell_type": "markdown",
      "metadata": {
        "id": "eReK2O-s4X-m"
      },
      "source": [
        "> Jawaban:\n",
        "\n",
        "> Dari variasi model yang sudah saya lakukan, Random Forest dengan parameter berupa \n",
        "\n",
        "{'criterion': 'entropy',\n",
        " 'max_depth': 12,\n",
        " 'min_samples_split': 10,\n",
        " 'n_estimators': 400}\n",
        "\n",
        "memiliki average score yang paling tinggi yaitu 0.88.\n",
        "Nilai terbaik untuk tiga variasi model lainnya adalah:\n",
        "\n",
        "KNN: 0.81\n",
        "Naive Bayes: 0.78\n",
        "Decision Tree: 0.83 \n",
        "\n",
        "Random forest memiliki performa yang paling baik untuk dataset ini. Setiap pemisahan tree, model hanya mempertimbangkan sebagian kecil fitur daripada semua fitur model. Random forest hanya mencari fitur yang paling penting saat memisahkan node. Random forest mencari fitur terbaik di antara subset fitur yang ada. Ini menghasilkan keragaman yang luas yang umumnya menghasilkan model yang lebih baik. Hasil dari random forest ini mengimprove akurasi dan mengurangi overfitting. Prediksi dari Random Forest Regressor adalah rata-rata dari prediksi yang dihasilkan oleh masing-masing tree"
      ]
    }
  ],
  "metadata": {
    "colab": {
      "provenance": []
    },
    "kernelspec": {
      "display_name": "Python 3",
      "name": "python3"
    },
    "language_info": {
      "name": "python"
    }
  },
  "nbformat": 4,
  "nbformat_minor": 0
}